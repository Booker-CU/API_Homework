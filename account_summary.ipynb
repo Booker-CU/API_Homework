{
 "cells": [
  {
   "cell_type": "code",
   "execution_count": 140,
   "metadata": {},
   "outputs": [],
   "source": [
    "import os\n",
    "import plaid\n",
    "import requests\n",
    "import datetime\n",
    "from pathlib import Path\n",
    "import json\n",
    "import pandas as pd\n",
    "import numpy as np\n",
    "%matplotlib inline"
   ]
  },
  {
   "cell_type": "code",
   "execution_count": 141,
   "metadata": {},
   "outputs": [],
   "source": [
    "def pretty_print_response(response):\n",
    "  print(json.dumps(response, indent=4, sort_keys=True))"
   ]
  },
  {
   "cell_type": "code",
   "execution_count": 142,
   "metadata": {},
   "outputs": [],
   "source": [
    "PLAID_CLIENT_ID = os.getenv('PLAID_CLIENT_ID')\n",
    "PLAID_SECRET = os.getenv('PLAID_SECRET')\n",
    "PLAID_PUBLIC_KEY = os.getenv('PLAID_PUBLIC_KEY')\n",
    "PLAID_ENV = os.getenv('PLAID_ENV', 'sandbox')\n",
    "PLAID_PRODUCTS = os.getenv('PLAID_PRODUCTS', 'transactions')\n"
   ]
  },
  {
   "cell_type": "markdown",
   "metadata": {},
   "source": [
    "# Plaid Access Token\n",
    "\n",
    "In this section, you will use the plaid-python api to generate the correct authentication tokens to access data in the free developer Sandbox. This mimics how you might connect to your own account or a customer account, but due to privacy issues, this homework will only require connecting to and analyzing the fake data from the developer sandbox that Plaid provides. \n",
    "\n",
    "Complete the following steps to generate an access token:\n",
    "1. Create a client to connect to plaid\n",
    "2. Use the client to generate a public token and request the following items: \n",
    "['transactions', 'income', 'assets']\n",
    "3. Exchange the public token for an access token\n",
    "4. Test the access token by requesting and printing the available test accounts"
   ]
  },
  {
   "cell_type": "markdown",
   "metadata": {},
   "source": [
    "### 1. Create a client to connect to plaid"
   ]
  },
  {
   "cell_type": "code",
   "execution_count": 143,
   "metadata": {},
   "outputs": [],
   "source": [
    "client = plaid.Client(client_id=PLAID_CLIENT_ID, secret=PLAID_SECRET, public_key=PLAID_PUBLIC_KEY, environment='sandbox')\n",
    "#INSTITUTION_ID = \"ins_109508\"\n"
   ]
  },
  {
   "cell_type": "code",
   "execution_count": 144,
   "metadata": {},
   "outputs": [
    {
     "data": {
      "text/plain": [
       "<plaid.client.Client at 0x123fc7e10>"
      ]
     },
     "execution_count": 144,
     "metadata": {},
     "output_type": "execute_result"
    }
   ],
   "source": [
    "client"
   ]
  },
  {
   "cell_type": "code",
   "execution_count": 145,
   "metadata": {},
   "outputs": [],
   "source": [
    "INSTITUTION_ID = \"ins_109508\""
   ]
  },
  {
   "cell_type": "code",
   "execution_count": 146,
   "metadata": {},
   "outputs": [
    {
     "ename": "SyntaxError",
     "evalue": "can't assign to operator (<ipython-input-146-c6aedea3d5e6>, line 1)",
     "output_type": "error",
     "traceback": [
      "\u001b[0;36m  File \u001b[0;32m\"<ipython-input-146-c6aedea3d5e6>\"\u001b[0;36m, line \u001b[0;32m1\u001b[0m\n\u001b[0;31m    api-key = 'tjhwakjgfhkasjdhfsajdflsj$$$'\u001b[0m\n\u001b[0m                                            ^\u001b[0m\n\u001b[0;31mSyntaxError\u001b[0m\u001b[0;31m:\u001b[0m can't assign to operator\n"
     ]
    }
   ],
   "source": [
    "api-key = 'tjhwakjgfhkasjdhfsajdflsj$$$'\n",
    "\n",
    "api_request = 'https://www.plaid.com/api/'"
   ]
  },
  {
   "cell_type": "markdown",
   "metadata": {},
   "source": [
    "### 2. Generate a public token"
   ]
  },
  {
   "cell_type": "code",
   "execution_count": 147,
   "metadata": {},
   "outputs": [],
   "source": [
    "# YOUR CODE HERE\n",
    "create_tkn_response = client.Sandbox.public_token.create(INSTITUTION_ID, ['transactions','income','assets'])"
   ]
  },
  {
   "cell_type": "markdown",
   "metadata": {},
   "source": [
    "### 3. Exchange the public token for an access token"
   ]
  },
  {
   "cell_type": "code",
   "execution_count": 148,
   "metadata": {},
   "outputs": [],
   "source": [
    "# YOUR CODE HERE\n",
    "exchange_response = client.Item.public_token.exchange(create_tkn_response['public_token'])\n"
   ]
  },
  {
   "cell_type": "code",
   "execution_count": 149,
   "metadata": {},
   "outputs": [],
   "source": [
    "# Store access token as variable\n",
    "access_token = exchange_response['access_token']"
   ]
  },
  {
   "cell_type": "markdown",
   "metadata": {},
   "source": [
    "### 4. Fetch Accounts"
   ]
  },
  {
   "cell_type": "code",
   "execution_count": 150,
   "metadata": {},
   "outputs": [
    {
     "data": {
      "text/plain": [
       "{'accounts': [{'account_id': 'XMjVM7G1ePuoZqMR1W8eSzw7BE484etdMJwqy',\n",
       "   'balances': {'available': 100,\n",
       "    'current': 110,\n",
       "    'iso_currency_code': 'USD',\n",
       "    'limit': None,\n",
       "    'unofficial_currency_code': None},\n",
       "   'mask': '0000',\n",
       "   'name': 'Plaid Checking',\n",
       "   'official_name': 'Plaid Gold Standard 0% Interest Checking',\n",
       "   'subtype': 'checking',\n",
       "   'type': 'depository'},\n",
       "  {'account_id': 'DWdzWbqRL7cGeRK3QwVksMlqNR6g6bhvldKx7',\n",
       "   'balances': {'available': 200,\n",
       "    'current': 210,\n",
       "    'iso_currency_code': 'USD',\n",
       "    'limit': None,\n",
       "    'unofficial_currency_code': None},\n",
       "   'mask': '1111',\n",
       "   'name': 'Plaid Saving',\n",
       "   'official_name': 'Plaid Silver Standard 0.1% Interest Saving',\n",
       "   'subtype': 'savings',\n",
       "   'type': 'depository'},\n",
       "  {'account_id': 'VQNyQPL1j4Hre9D7lmgJteMyBvnQnEHW5l3eD',\n",
       "   'balances': {'available': None,\n",
       "    'current': 1000,\n",
       "    'iso_currency_code': 'USD',\n",
       "    'limit': None,\n",
       "    'unofficial_currency_code': None},\n",
       "   'mask': '2222',\n",
       "   'name': 'Plaid CD',\n",
       "   'official_name': 'Plaid Bronze Standard 0.2% Interest CD',\n",
       "   'subtype': 'cd',\n",
       "   'type': 'depository'},\n",
       "  {'account_id': 'wp8XpalAGEuq145weXZPhznRjAx4x9tryMBjM',\n",
       "   'balances': {'available': None,\n",
       "    'current': 410,\n",
       "    'iso_currency_code': 'USD',\n",
       "    'limit': 2000,\n",
       "    'unofficial_currency_code': None},\n",
       "   'mask': '3333',\n",
       "   'name': 'Plaid Credit Card',\n",
       "   'official_name': 'Plaid Diamond 12.5% APR Interest Credit Card',\n",
       "   'subtype': 'credit card',\n",
       "   'type': 'credit'},\n",
       "  {'account_id': '5N9MNebxBpiGnKP5qZmos1BpR4eoeMUZ4JqMj',\n",
       "   'balances': {'available': 43200,\n",
       "    'current': 43200,\n",
       "    'iso_currency_code': 'USD',\n",
       "    'limit': None,\n",
       "    'unofficial_currency_code': None},\n",
       "   'mask': '4444',\n",
       "   'name': 'Plaid Money Market',\n",
       "   'official_name': 'Plaid Platinum Standard 1.85% Interest Money Market',\n",
       "   'subtype': 'money market',\n",
       "   'type': 'depository'},\n",
       "  {'account_id': 'Jz7NzlxaqLCJrQ9EG4mvCP3KdErDr6fdKxVqN',\n",
       "   'balances': {'available': None,\n",
       "    'current': 320.76,\n",
       "    'iso_currency_code': 'USD',\n",
       "    'limit': None,\n",
       "    'unofficial_currency_code': None},\n",
       "   'mask': '5555',\n",
       "   'name': 'Plaid IRA',\n",
       "   'official_name': None,\n",
       "   'subtype': 'ira',\n",
       "   'type': 'investment'},\n",
       "  {'account_id': 'ka8Qa9Db6Euax7qwyZd5SN4RBvqeq1CWGayKg',\n",
       "   'balances': {'available': None,\n",
       "    'current': 23631.9805,\n",
       "    'iso_currency_code': 'USD',\n",
       "    'limit': None,\n",
       "    'unofficial_currency_code': None},\n",
       "   'mask': '6666',\n",
       "   'name': 'Plaid 401k',\n",
       "   'official_name': None,\n",
       "   'subtype': '401k',\n",
       "   'type': 'investment'},\n",
       "  {'account_id': 'l4yQ4vDWGEu1dNKQXpgLU819XyAvADuZzND8K',\n",
       "   'balances': {'available': None,\n",
       "    'current': 65262,\n",
       "    'iso_currency_code': 'USD',\n",
       "    'limit': None,\n",
       "    'unofficial_currency_code': None},\n",
       "   'mask': '7777',\n",
       "   'name': 'Plaid Student Loan',\n",
       "   'official_name': None,\n",
       "   'subtype': 'student',\n",
       "   'type': 'loan'}],\n",
       " 'item': {'available_products': ['auth',\n",
       "   'balance',\n",
       "   'credit_details',\n",
       "   'identity',\n",
       "   'investments',\n",
       "   'liabilities'],\n",
       "  'billed_products': ['assets', 'income', 'transactions'],\n",
       "  'consent_expiration_time': None,\n",
       "  'error': None,\n",
       "  'institution_id': 'ins_109508',\n",
       "  'item_id': 'l4yQ4vDWGEu1dNKQXpgLU819xkabzpiZQloVW',\n",
       "  'webhook': ''},\n",
       " 'request_id': 'V6P0YOGOjpHgPyZ'}"
      ]
     },
     "execution_count": 150,
     "metadata": {},
     "output_type": "execute_result"
    }
   ],
   "source": [
    "# YOUR CODE HERE\n",
    "client.Accounts.get(access_token)"
   ]
  },
  {
   "cell_type": "markdown",
   "metadata": {},
   "source": [
    "---"
   ]
  },
  {
   "cell_type": "markdown",
   "metadata": {},
   "source": [
    "# Account Transactions with Plaid\n",
    "\n",
    "In this section, you will use the Plaid Python SDK to connect to the Developer Sandbox account and grab a list of transactions. You will need to complete the following steps:\n",
    "\n",
    "\n",
    "1. Use the access token to fetch the transactions for the last 90 days\n",
    "2. Print the categories for each transaction type\n",
    "3. Create a new DataFrame using the following fields from the JSON transaction data: `date, name, amount, category`. (For categories with more than one label, just use the first category label in the list)\n",
    "4. Convert the data types to the appropriate types (i.e. datetimeindex for the date and float for the amount)"
   ]
  },
  {
   "cell_type": "markdown",
   "metadata": {},
   "source": [
    "1.Fetch the Transactions for the last 90 days"
   ]
  },
  {
   "cell_type": "code",
   "execution_count": 151,
   "metadata": {},
   "outputs": [],
   "source": [
    "start_date = '{:%Y-%m-%d}'.format(datetime.datetime.now() + datetime.timedelta(-90))\n",
    "end_date = '{:%Y-%m-%d}'.format(datetime.datetime.now())\n",
    "\n",
    "transaction_response = client.Transactions.get(access_token,start_date,end_date)\n",
    "\n"
   ]
  },
  {
   "cell_type": "markdown",
   "metadata": {},
   "source": [
    "### 2. Print the categories for each transaction"
   ]
  },
  {
   "cell_type": "code",
   "execution_count": 152,
   "metadata": {},
   "outputs": [
    {
     "name": "stdout",
     "output_type": "stream",
     "text": [
      "[\n",
      "    {\n",
      "        \"account_id\": \"wp8XpalAGEuq145weXZPhznRjAx4x9tryMBjM\",\n",
      "        \"account_owner\": null,\n",
      "        \"amount\": 500,\n",
      "        \"authorized_date\": null,\n",
      "        \"category\": [\n",
      "            \"Travel\",\n",
      "            \"Airlines and Aviation Services\"\n",
      "        ],\n",
      "        \"category_id\": \"22001000\",\n",
      "        \"date\": \"2020-01-31\",\n",
      "        \"iso_currency_code\": \"USD\",\n",
      "        \"location\": {\n",
      "            \"address\": null,\n",
      "            \"city\": null,\n",
      "            \"country\": null,\n",
      "            \"lat\": null,\n",
      "            \"lon\": null,\n",
      "            \"postal_code\": null,\n",
      "            \"region\": null,\n",
      "            \"store_number\": null\n",
      "        },\n",
      "        \"name\": \"United Airlines\",\n",
      "        \"payment_channel\": \"in store\",\n",
      "        \"payment_meta\": {\n",
      "            \"by_order_of\": null,\n",
      "            \"payee\": null,\n",
      "            \"payer\": null,\n",
      "            \"payment_method\": null,\n",
      "            \"payment_processor\": null,\n",
      "            \"ppd_id\": null,\n",
      "            \"reason\": null,\n",
      "            \"reference_number\": null\n",
      "        },\n",
      "        \"pending\": false,\n",
      "        \"pending_transaction_id\": null,\n",
      "        \"transaction_id\": \"WZPyZjM87NFpQ3Aqw98lfZ1re5QBndClNxJ1l\",\n",
      "        \"transaction_type\": \"special\",\n",
      "        \"unofficial_currency_code\": null\n",
      "    },\n",
      "    {\n",
      "        \"account_id\": \"XMjVM7G1ePuoZqMR1W8eSzw7BE484etdMJwqy\",\n",
      "        \"account_owner\": null,\n",
      "        \"amount\": 6.33,\n",
      "        \"authorized_date\": null,\n",
      "        \"category\": [\n",
      "            \"Travel\",\n",
      "            \"Taxi\"\n",
      "        ],\n",
      "        \"category_id\": \"22016000\",\n",
      "        \"date\": \"2020-01-29\",\n",
      "        \"iso_currency_code\": \"USD\",\n",
      "        \"location\": {\n",
      "            \"address\": null,\n",
      "            \"city\": null,\n",
      "            \"country\": null,\n",
      "            \"lat\": null,\n",
      "            \"lon\": null,\n",
      "            \"postal_code\": null,\n",
      "            \"region\": null,\n",
      "            \"store_number\": null\n",
      "        },\n",
      "        \"name\": \"Uber\",\n",
      "        \"payment_channel\": \"in store\",\n",
      "        \"payment_meta\": {\n",
      "            \"by_order_of\": null,\n",
      "            \"payee\": null,\n",
      "            \"payer\": null,\n",
      "            \"payment_method\": null,\n",
      "            \"payment_processor\": null,\n",
      "            \"ppd_id\": null,\n",
      "            \"reason\": null,\n",
      "            \"reference_number\": null\n",
      "        },\n",
      "        \"pending\": false,\n",
      "        \"pending_transaction_id\": null,\n",
      "        \"transaction_id\": \"ZLmyLQMgZ7uBvMAWq7p5CJgD1bERMAtgwWdXE\",\n",
      "        \"transaction_type\": \"special\",\n",
      "        \"unofficial_currency_code\": null\n",
      "    }\n",
      "]\n"
     ]
    }
   ],
   "source": [
    "# YOUR CODE HERE\n",
    "print(json.dumps(transaction_response['transactions'][:2],indent=4, sort_keys=True))"
   ]
  },
  {
   "cell_type": "markdown",
   "metadata": {},
   "source": [
    "### 3. Create a new DataFrame using the following fields from the JSON transaction data: date, name, amount, category. \n",
    "\n",
    "(For categories with more than one label, just use the first category label in the list)"
   ]
  },
  {
   "cell_type": "code",
   "execution_count": 153,
   "metadata": {},
   "outputs": [],
   "source": [
    "# YOUR CODE HERE\n",
    "df = pd.DataFrame(transaction_response['transactions'])"
   ]
  },
  {
   "cell_type": "code",
   "execution_count": 154,
   "metadata": {},
   "outputs": [
    {
     "data": {
      "text/html": [
       "<div>\n",
       "<style scoped>\n",
       "    .dataframe tbody tr th:only-of-type {\n",
       "        vertical-align: middle;\n",
       "    }\n",
       "\n",
       "    .dataframe tbody tr th {\n",
       "        vertical-align: top;\n",
       "    }\n",
       "\n",
       "    .dataframe thead th {\n",
       "        text-align: right;\n",
       "    }\n",
       "</style>\n",
       "<table border=\"1\" class=\"dataframe\">\n",
       "  <thead>\n",
       "    <tr style=\"text-align: right;\">\n",
       "      <th></th>\n",
       "      <th>account_id</th>\n",
       "      <th>account_owner</th>\n",
       "      <th>amount</th>\n",
       "      <th>authorized_date</th>\n",
       "      <th>category</th>\n",
       "      <th>category_id</th>\n",
       "      <th>date</th>\n",
       "      <th>iso_currency_code</th>\n",
       "      <th>location</th>\n",
       "      <th>name</th>\n",
       "      <th>payment_channel</th>\n",
       "      <th>payment_meta</th>\n",
       "      <th>pending</th>\n",
       "      <th>pending_transaction_id</th>\n",
       "      <th>transaction_id</th>\n",
       "      <th>transaction_type</th>\n",
       "      <th>unofficial_currency_code</th>\n",
       "    </tr>\n",
       "  </thead>\n",
       "  <tbody>\n",
       "    <tr>\n",
       "      <th>0</th>\n",
       "      <td>wp8XpalAGEuq145weXZPhznRjAx4x9tryMBjM</td>\n",
       "      <td>None</td>\n",
       "      <td>500.00</td>\n",
       "      <td>None</td>\n",
       "      <td>[Travel, Airlines and Aviation Services]</td>\n",
       "      <td>22001000</td>\n",
       "      <td>2020-01-31</td>\n",
       "      <td>USD</td>\n",
       "      <td>{'address': None, 'city': None, 'country': Non...</td>\n",
       "      <td>United Airlines</td>\n",
       "      <td>in store</td>\n",
       "      <td>{'by_order_of': None, 'payee': None, 'payer': ...</td>\n",
       "      <td>False</td>\n",
       "      <td>None</td>\n",
       "      <td>WZPyZjM87NFpQ3Aqw98lfZ1re5QBndClNxJ1l</td>\n",
       "      <td>special</td>\n",
       "      <td>None</td>\n",
       "    </tr>\n",
       "    <tr>\n",
       "      <th>1</th>\n",
       "      <td>XMjVM7G1ePuoZqMR1W8eSzw7BE484etdMJwqy</td>\n",
       "      <td>None</td>\n",
       "      <td>6.33</td>\n",
       "      <td>None</td>\n",
       "      <td>[Travel, Taxi]</td>\n",
       "      <td>22016000</td>\n",
       "      <td>2020-01-29</td>\n",
       "      <td>USD</td>\n",
       "      <td>{'address': None, 'city': None, 'country': Non...</td>\n",
       "      <td>Uber</td>\n",
       "      <td>in store</td>\n",
       "      <td>{'by_order_of': None, 'payee': None, 'payer': ...</td>\n",
       "      <td>False</td>\n",
       "      <td>None</td>\n",
       "      <td>ZLmyLQMgZ7uBvMAWq7p5CJgD1bERMAtgwWdXE</td>\n",
       "      <td>special</td>\n",
       "      <td>None</td>\n",
       "    </tr>\n",
       "    <tr>\n",
       "      <th>2</th>\n",
       "      <td>wp8XpalAGEuq145weXZPhznRjAx4x9tryMBjM</td>\n",
       "      <td>None</td>\n",
       "      <td>500.00</td>\n",
       "      <td>None</td>\n",
       "      <td>[Food and Drink, Restaurants]</td>\n",
       "      <td>13005000</td>\n",
       "      <td>2020-01-26</td>\n",
       "      <td>USD</td>\n",
       "      <td>{'address': None, 'city': None, 'country': Non...</td>\n",
       "      <td>Tectra Inc</td>\n",
       "      <td>in store</td>\n",
       "      <td>{'by_order_of': None, 'payee': None, 'payer': ...</td>\n",
       "      <td>False</td>\n",
       "      <td>None</td>\n",
       "      <td>AgBkgAVQZNCBJ87XjR5LCmyGd6k8rEc1VMnA9</td>\n",
       "      <td>place</td>\n",
       "      <td>None</td>\n",
       "    </tr>\n",
       "    <tr>\n",
       "      <th>3</th>\n",
       "      <td>wp8XpalAGEuq145weXZPhznRjAx4x9tryMBjM</td>\n",
       "      <td>None</td>\n",
       "      <td>2078.50</td>\n",
       "      <td>None</td>\n",
       "      <td>[Payment]</td>\n",
       "      <td>16000000</td>\n",
       "      <td>2020-01-25</td>\n",
       "      <td>USD</td>\n",
       "      <td>{'address': None, 'city': None, 'country': Non...</td>\n",
       "      <td>AUTOMATIC PAYMENT - THANK</td>\n",
       "      <td>other</td>\n",
       "      <td>{'by_order_of': None, 'payee': None, 'payer': ...</td>\n",
       "      <td>False</td>\n",
       "      <td>None</td>\n",
       "      <td>blmzlkX3GEiqA6BjDvZmhpzkM8vx7VtV9PMZ3</td>\n",
       "      <td>special</td>\n",
       "      <td>None</td>\n",
       "    </tr>\n",
       "    <tr>\n",
       "      <th>4</th>\n",
       "      <td>wp8XpalAGEuq145weXZPhznRjAx4x9tryMBjM</td>\n",
       "      <td>None</td>\n",
       "      <td>500.00</td>\n",
       "      <td>None</td>\n",
       "      <td>[Food and Drink, Restaurants, Fast Food]</td>\n",
       "      <td>13005032</td>\n",
       "      <td>2020-01-25</td>\n",
       "      <td>USD</td>\n",
       "      <td>{'address': None, 'city': None, 'country': Non...</td>\n",
       "      <td>KFC</td>\n",
       "      <td>in store</td>\n",
       "      <td>{'by_order_of': None, 'payee': None, 'payer': ...</td>\n",
       "      <td>False</td>\n",
       "      <td>None</td>\n",
       "      <td>nP8QPlDpGEup4VzRwmXNfwpLQyrGbDt67DLWK</td>\n",
       "      <td>place</td>\n",
       "      <td>None</td>\n",
       "    </tr>\n",
       "  </tbody>\n",
       "</table>\n",
       "</div>"
      ],
      "text/plain": [
       "                              account_id account_owner   amount  \\\n",
       "0  wp8XpalAGEuq145weXZPhznRjAx4x9tryMBjM          None   500.00   \n",
       "1  XMjVM7G1ePuoZqMR1W8eSzw7BE484etdMJwqy          None     6.33   \n",
       "2  wp8XpalAGEuq145weXZPhznRjAx4x9tryMBjM          None   500.00   \n",
       "3  wp8XpalAGEuq145weXZPhznRjAx4x9tryMBjM          None  2078.50   \n",
       "4  wp8XpalAGEuq145weXZPhznRjAx4x9tryMBjM          None   500.00   \n",
       "\n",
       "  authorized_date                                  category category_id  \\\n",
       "0            None  [Travel, Airlines and Aviation Services]    22001000   \n",
       "1            None                            [Travel, Taxi]    22016000   \n",
       "2            None             [Food and Drink, Restaurants]    13005000   \n",
       "3            None                                 [Payment]    16000000   \n",
       "4            None  [Food and Drink, Restaurants, Fast Food]    13005032   \n",
       "\n",
       "         date iso_currency_code  \\\n",
       "0  2020-01-31               USD   \n",
       "1  2020-01-29               USD   \n",
       "2  2020-01-26               USD   \n",
       "3  2020-01-25               USD   \n",
       "4  2020-01-25               USD   \n",
       "\n",
       "                                            location  \\\n",
       "0  {'address': None, 'city': None, 'country': Non...   \n",
       "1  {'address': None, 'city': None, 'country': Non...   \n",
       "2  {'address': None, 'city': None, 'country': Non...   \n",
       "3  {'address': None, 'city': None, 'country': Non...   \n",
       "4  {'address': None, 'city': None, 'country': Non...   \n",
       "\n",
       "                        name payment_channel  \\\n",
       "0            United Airlines        in store   \n",
       "1                       Uber        in store   \n",
       "2                 Tectra Inc        in store   \n",
       "3  AUTOMATIC PAYMENT - THANK           other   \n",
       "4                        KFC        in store   \n",
       "\n",
       "                                        payment_meta  pending  \\\n",
       "0  {'by_order_of': None, 'payee': None, 'payer': ...    False   \n",
       "1  {'by_order_of': None, 'payee': None, 'payer': ...    False   \n",
       "2  {'by_order_of': None, 'payee': None, 'payer': ...    False   \n",
       "3  {'by_order_of': None, 'payee': None, 'payer': ...    False   \n",
       "4  {'by_order_of': None, 'payee': None, 'payer': ...    False   \n",
       "\n",
       "  pending_transaction_id                         transaction_id  \\\n",
       "0                   None  WZPyZjM87NFpQ3Aqw98lfZ1re5QBndClNxJ1l   \n",
       "1                   None  ZLmyLQMgZ7uBvMAWq7p5CJgD1bERMAtgwWdXE   \n",
       "2                   None  AgBkgAVQZNCBJ87XjR5LCmyGd6k8rEc1VMnA9   \n",
       "3                   None  blmzlkX3GEiqA6BjDvZmhpzkM8vx7VtV9PMZ3   \n",
       "4                   None  nP8QPlDpGEup4VzRwmXNfwpLQyrGbDt67DLWK   \n",
       "\n",
       "  transaction_type unofficial_currency_code  \n",
       "0          special                     None  \n",
       "1          special                     None  \n",
       "2            place                     None  \n",
       "3          special                     None  \n",
       "4            place                     None  "
      ]
     },
     "execution_count": 154,
     "metadata": {},
     "output_type": "execute_result"
    }
   ],
   "source": [
    "df.head()"
   ]
  },
  {
   "cell_type": "code",
   "execution_count": 155,
   "metadata": {},
   "outputs": [
    {
     "data": {
      "text/html": [
       "<div>\n",
       "<style scoped>\n",
       "    .dataframe tbody tr th:only-of-type {\n",
       "        vertical-align: middle;\n",
       "    }\n",
       "\n",
       "    .dataframe tbody tr th {\n",
       "        vertical-align: top;\n",
       "    }\n",
       "\n",
       "    .dataframe thead th {\n",
       "        text-align: right;\n",
       "    }\n",
       "</style>\n",
       "<table border=\"1\" class=\"dataframe\">\n",
       "  <thead>\n",
       "    <tr style=\"text-align: right;\">\n",
       "      <th></th>\n",
       "      <th>account_id</th>\n",
       "      <th>account_owner</th>\n",
       "      <th>amount</th>\n",
       "      <th>authorized_date</th>\n",
       "      <th>category</th>\n",
       "      <th>category_id</th>\n",
       "      <th>iso_currency_code</th>\n",
       "      <th>location</th>\n",
       "      <th>name</th>\n",
       "      <th>payment_channel</th>\n",
       "      <th>payment_meta</th>\n",
       "      <th>pending</th>\n",
       "      <th>pending_transaction_id</th>\n",
       "      <th>transaction_id</th>\n",
       "      <th>transaction_type</th>\n",
       "      <th>unofficial_currency_code</th>\n",
       "    </tr>\n",
       "    <tr>\n",
       "      <th>date</th>\n",
       "      <th></th>\n",
       "      <th></th>\n",
       "      <th></th>\n",
       "      <th></th>\n",
       "      <th></th>\n",
       "      <th></th>\n",
       "      <th></th>\n",
       "      <th></th>\n",
       "      <th></th>\n",
       "      <th></th>\n",
       "      <th></th>\n",
       "      <th></th>\n",
       "      <th></th>\n",
       "      <th></th>\n",
       "      <th></th>\n",
       "      <th></th>\n",
       "    </tr>\n",
       "  </thead>\n",
       "  <tbody>\n",
       "    <tr>\n",
       "      <th>2020-01-31</th>\n",
       "      <td>wp8XpalAGEuq145weXZPhznRjAx4x9tryMBjM</td>\n",
       "      <td>None</td>\n",
       "      <td>500.00</td>\n",
       "      <td>None</td>\n",
       "      <td>[Travel, Airlines and Aviation Services]</td>\n",
       "      <td>22001000</td>\n",
       "      <td>USD</td>\n",
       "      <td>{'address': None, 'city': None, 'country': Non...</td>\n",
       "      <td>United Airlines</td>\n",
       "      <td>in store</td>\n",
       "      <td>{'by_order_of': None, 'payee': None, 'payer': ...</td>\n",
       "      <td>False</td>\n",
       "      <td>None</td>\n",
       "      <td>WZPyZjM87NFpQ3Aqw98lfZ1re5QBndClNxJ1l</td>\n",
       "      <td>special</td>\n",
       "      <td>None</td>\n",
       "    </tr>\n",
       "    <tr>\n",
       "      <th>2020-01-29</th>\n",
       "      <td>XMjVM7G1ePuoZqMR1W8eSzw7BE484etdMJwqy</td>\n",
       "      <td>None</td>\n",
       "      <td>6.33</td>\n",
       "      <td>None</td>\n",
       "      <td>[Travel, Taxi]</td>\n",
       "      <td>22016000</td>\n",
       "      <td>USD</td>\n",
       "      <td>{'address': None, 'city': None, 'country': Non...</td>\n",
       "      <td>Uber</td>\n",
       "      <td>in store</td>\n",
       "      <td>{'by_order_of': None, 'payee': None, 'payer': ...</td>\n",
       "      <td>False</td>\n",
       "      <td>None</td>\n",
       "      <td>ZLmyLQMgZ7uBvMAWq7p5CJgD1bERMAtgwWdXE</td>\n",
       "      <td>special</td>\n",
       "      <td>None</td>\n",
       "    </tr>\n",
       "    <tr>\n",
       "      <th>2020-01-26</th>\n",
       "      <td>wp8XpalAGEuq145weXZPhznRjAx4x9tryMBjM</td>\n",
       "      <td>None</td>\n",
       "      <td>500.00</td>\n",
       "      <td>None</td>\n",
       "      <td>[Food and Drink, Restaurants]</td>\n",
       "      <td>13005000</td>\n",
       "      <td>USD</td>\n",
       "      <td>{'address': None, 'city': None, 'country': Non...</td>\n",
       "      <td>Tectra Inc</td>\n",
       "      <td>in store</td>\n",
       "      <td>{'by_order_of': None, 'payee': None, 'payer': ...</td>\n",
       "      <td>False</td>\n",
       "      <td>None</td>\n",
       "      <td>AgBkgAVQZNCBJ87XjR5LCmyGd6k8rEc1VMnA9</td>\n",
       "      <td>place</td>\n",
       "      <td>None</td>\n",
       "    </tr>\n",
       "    <tr>\n",
       "      <th>2020-01-25</th>\n",
       "      <td>wp8XpalAGEuq145weXZPhznRjAx4x9tryMBjM</td>\n",
       "      <td>None</td>\n",
       "      <td>2078.50</td>\n",
       "      <td>None</td>\n",
       "      <td>[Payment]</td>\n",
       "      <td>16000000</td>\n",
       "      <td>USD</td>\n",
       "      <td>{'address': None, 'city': None, 'country': Non...</td>\n",
       "      <td>AUTOMATIC PAYMENT - THANK</td>\n",
       "      <td>other</td>\n",
       "      <td>{'by_order_of': None, 'payee': None, 'payer': ...</td>\n",
       "      <td>False</td>\n",
       "      <td>None</td>\n",
       "      <td>blmzlkX3GEiqA6BjDvZmhpzkM8vx7VtV9PMZ3</td>\n",
       "      <td>special</td>\n",
       "      <td>None</td>\n",
       "    </tr>\n",
       "    <tr>\n",
       "      <th>2020-01-25</th>\n",
       "      <td>wp8XpalAGEuq145weXZPhznRjAx4x9tryMBjM</td>\n",
       "      <td>None</td>\n",
       "      <td>500.00</td>\n",
       "      <td>None</td>\n",
       "      <td>[Food and Drink, Restaurants, Fast Food]</td>\n",
       "      <td>13005032</td>\n",
       "      <td>USD</td>\n",
       "      <td>{'address': None, 'city': None, 'country': Non...</td>\n",
       "      <td>KFC</td>\n",
       "      <td>in store</td>\n",
       "      <td>{'by_order_of': None, 'payee': None, 'payer': ...</td>\n",
       "      <td>False</td>\n",
       "      <td>None</td>\n",
       "      <td>nP8QPlDpGEup4VzRwmXNfwpLQyrGbDt67DLWK</td>\n",
       "      <td>place</td>\n",
       "      <td>None</td>\n",
       "    </tr>\n",
       "  </tbody>\n",
       "</table>\n",
       "</div>"
      ],
      "text/plain": [
       "                                       account_id account_owner   amount  \\\n",
       "date                                                                       \n",
       "2020-01-31  wp8XpalAGEuq145weXZPhznRjAx4x9tryMBjM          None   500.00   \n",
       "2020-01-29  XMjVM7G1ePuoZqMR1W8eSzw7BE484etdMJwqy          None     6.33   \n",
       "2020-01-26  wp8XpalAGEuq145weXZPhznRjAx4x9tryMBjM          None   500.00   \n",
       "2020-01-25  wp8XpalAGEuq145weXZPhznRjAx4x9tryMBjM          None  2078.50   \n",
       "2020-01-25  wp8XpalAGEuq145weXZPhznRjAx4x9tryMBjM          None   500.00   \n",
       "\n",
       "           authorized_date                                  category  \\\n",
       "date                                                                   \n",
       "2020-01-31            None  [Travel, Airlines and Aviation Services]   \n",
       "2020-01-29            None                            [Travel, Taxi]   \n",
       "2020-01-26            None             [Food and Drink, Restaurants]   \n",
       "2020-01-25            None                                 [Payment]   \n",
       "2020-01-25            None  [Food and Drink, Restaurants, Fast Food]   \n",
       "\n",
       "           category_id iso_currency_code  \\\n",
       "date                                       \n",
       "2020-01-31    22001000               USD   \n",
       "2020-01-29    22016000               USD   \n",
       "2020-01-26    13005000               USD   \n",
       "2020-01-25    16000000               USD   \n",
       "2020-01-25    13005032               USD   \n",
       "\n",
       "                                                     location  \\\n",
       "date                                                            \n",
       "2020-01-31  {'address': None, 'city': None, 'country': Non...   \n",
       "2020-01-29  {'address': None, 'city': None, 'country': Non...   \n",
       "2020-01-26  {'address': None, 'city': None, 'country': Non...   \n",
       "2020-01-25  {'address': None, 'city': None, 'country': Non...   \n",
       "2020-01-25  {'address': None, 'city': None, 'country': Non...   \n",
       "\n",
       "                                 name payment_channel  \\\n",
       "date                                                    \n",
       "2020-01-31            United Airlines        in store   \n",
       "2020-01-29                       Uber        in store   \n",
       "2020-01-26                 Tectra Inc        in store   \n",
       "2020-01-25  AUTOMATIC PAYMENT - THANK           other   \n",
       "2020-01-25                        KFC        in store   \n",
       "\n",
       "                                                 payment_meta  pending  \\\n",
       "date                                                                     \n",
       "2020-01-31  {'by_order_of': None, 'payee': None, 'payer': ...    False   \n",
       "2020-01-29  {'by_order_of': None, 'payee': None, 'payer': ...    False   \n",
       "2020-01-26  {'by_order_of': None, 'payee': None, 'payer': ...    False   \n",
       "2020-01-25  {'by_order_of': None, 'payee': None, 'payer': ...    False   \n",
       "2020-01-25  {'by_order_of': None, 'payee': None, 'payer': ...    False   \n",
       "\n",
       "           pending_transaction_id                         transaction_id  \\\n",
       "date                                                                       \n",
       "2020-01-31                   None  WZPyZjM87NFpQ3Aqw98lfZ1re5QBndClNxJ1l   \n",
       "2020-01-29                   None  ZLmyLQMgZ7uBvMAWq7p5CJgD1bERMAtgwWdXE   \n",
       "2020-01-26                   None  AgBkgAVQZNCBJ87XjR5LCmyGd6k8rEc1VMnA9   \n",
       "2020-01-25                   None  blmzlkX3GEiqA6BjDvZmhpzkM8vx7VtV9PMZ3   \n",
       "2020-01-25                   None  nP8QPlDpGEup4VzRwmXNfwpLQyrGbDt67DLWK   \n",
       "\n",
       "           transaction_type unofficial_currency_code  \n",
       "date                                                  \n",
       "2020-01-31          special                     None  \n",
       "2020-01-29          special                     None  \n",
       "2020-01-26            place                     None  \n",
       "2020-01-25          special                     None  \n",
       "2020-01-25            place                     None  "
      ]
     },
     "execution_count": 155,
     "metadata": {},
     "output_type": "execute_result"
    }
   ],
   "source": [
    "df.set_index(['date']).head()"
   ]
  },
  {
   "cell_type": "code",
   "execution_count": 156,
   "metadata": {},
   "outputs": [],
   "source": [
    "data_df = df [['date','name', 'amount', 'category']]"
   ]
  },
  {
   "cell_type": "code",
   "execution_count": 157,
   "metadata": {},
   "outputs": [
    {
     "data": {
      "text/html": [
       "<div>\n",
       "<style scoped>\n",
       "    .dataframe tbody tr th:only-of-type {\n",
       "        vertical-align: middle;\n",
       "    }\n",
       "\n",
       "    .dataframe tbody tr th {\n",
       "        vertical-align: top;\n",
       "    }\n",
       "\n",
       "    .dataframe thead th {\n",
       "        text-align: right;\n",
       "    }\n",
       "</style>\n",
       "<table border=\"1\" class=\"dataframe\">\n",
       "  <thead>\n",
       "    <tr style=\"text-align: right;\">\n",
       "      <th></th>\n",
       "      <th>name</th>\n",
       "      <th>amount</th>\n",
       "      <th>category</th>\n",
       "    </tr>\n",
       "    <tr>\n",
       "      <th>date</th>\n",
       "      <th></th>\n",
       "      <th></th>\n",
       "      <th></th>\n",
       "    </tr>\n",
       "  </thead>\n",
       "  <tbody>\n",
       "    <tr>\n",
       "      <th>2020-01-31</th>\n",
       "      <td>United Airlines</td>\n",
       "      <td>500.00</td>\n",
       "      <td>[Travel, Airlines and Aviation Services]</td>\n",
       "    </tr>\n",
       "    <tr>\n",
       "      <th>2020-01-29</th>\n",
       "      <td>Uber</td>\n",
       "      <td>6.33</td>\n",
       "      <td>[Travel, Taxi]</td>\n",
       "    </tr>\n",
       "    <tr>\n",
       "      <th>2020-01-26</th>\n",
       "      <td>Tectra Inc</td>\n",
       "      <td>500.00</td>\n",
       "      <td>[Food and Drink, Restaurants]</td>\n",
       "    </tr>\n",
       "    <tr>\n",
       "      <th>2020-01-25</th>\n",
       "      <td>AUTOMATIC PAYMENT - THANK</td>\n",
       "      <td>2078.50</td>\n",
       "      <td>[Payment]</td>\n",
       "    </tr>\n",
       "    <tr>\n",
       "      <th>2020-01-25</th>\n",
       "      <td>KFC</td>\n",
       "      <td>500.00</td>\n",
       "      <td>[Food and Drink, Restaurants, Fast Food]</td>\n",
       "    </tr>\n",
       "  </tbody>\n",
       "</table>\n",
       "</div>"
      ],
      "text/plain": [
       "                                 name   amount  \\\n",
       "date                                             \n",
       "2020-01-31            United Airlines   500.00   \n",
       "2020-01-29                       Uber     6.33   \n",
       "2020-01-26                 Tectra Inc   500.00   \n",
       "2020-01-25  AUTOMATIC PAYMENT - THANK  2078.50   \n",
       "2020-01-25                        KFC   500.00   \n",
       "\n",
       "                                            category  \n",
       "date                                                  \n",
       "2020-01-31  [Travel, Airlines and Aviation Services]  \n",
       "2020-01-29                            [Travel, Taxi]  \n",
       "2020-01-26             [Food and Drink, Restaurants]  \n",
       "2020-01-25                                 [Payment]  \n",
       "2020-01-25  [Food and Drink, Restaurants, Fast Food]  "
      ]
     },
     "execution_count": 157,
     "metadata": {},
     "output_type": "execute_result"
    }
   ],
   "source": [
    "data_df.set_index(['date']).head()"
   ]
  },
  {
   "cell_type": "markdown",
   "metadata": {},
   "source": [
    "### 4. Convert the data types to the appropriate types \n",
    "\n",
    "(i.e. datetimeindex for the date and float for the amount)"
   ]
  },
  {
   "cell_type": "code",
   "execution_count": 158,
   "metadata": {},
   "outputs": [
    {
     "data": {
      "text/plain": [
       "date         object\n",
       "name         object\n",
       "amount      float64\n",
       "category     object\n",
       "dtype: object"
      ]
     },
     "execution_count": 158,
     "metadata": {},
     "output_type": "execute_result"
    }
   ],
   "source": [
    "# YOUR CODE HERE\n",
    "\n",
    "data_df.dtypes"
   ]
  },
  {
   "cell_type": "markdown",
   "metadata": {},
   "source": [
    "---"
   ]
  },
  {
   "cell_type": "markdown",
   "metadata": {},
   "source": [
    "# Income Analysis with Plaid\n",
    "\n",
    "In this section, you will use the Plaid Sandbox to complete the following:\n",
    "1. Determine the previous year's gross income and print the results\n",
    "2. Determine the current monthly income and print the results\n",
    "3. Determine the projected yearly income and print the results"
   ]
  },
  {
   "cell_type": "code",
   "execution_count": 159,
   "metadata": {},
   "outputs": [
    {
     "data": {
      "text/plain": [
       "{'income': {'income_streams': [{'confidence': 0.99,\n",
       "    'days': 690,\n",
       "    'monthly_income': 500,\n",
       "    'name': 'UNITED AIRLINES'}],\n",
       "  'last_year_income': 6000,\n",
       "  'last_year_income_before_tax': 7285,\n",
       "  'max_number_of_overlapping_income_streams': 1,\n",
       "  'number_of_income_streams': 1,\n",
       "  'projected_yearly_income': 6085,\n",
       "  'projected_yearly_income_before_tax': 7389},\n",
       " 'request_id': 'EIfqjgBfVi0SXg6'}"
      ]
     },
     "execution_count": 159,
     "metadata": {},
     "output_type": "execute_result"
    }
   ],
   "source": [
    "# YOUR CODE HERE\n",
    "client.Income.get(access_token)"
   ]
  },
  {
   "cell_type": "code",
   "execution_count": 160,
   "metadata": {},
   "outputs": [
    {
     "name": "stdout",
     "output_type": "stream",
     "text": [
      "Clients gross income last year before tax was $7285.\n"
     ]
    }
   ],
   "source": [
    "print(\"Clients gross income last year before tax was $7285.\")"
   ]
  },
  {
   "cell_type": "code",
   "execution_count": 161,
   "metadata": {},
   "outputs": [
    {
     "name": "stdout",
     "output_type": "stream",
     "text": [
      "Clients monthly income is $500.\n"
     ]
    }
   ],
   "source": [
    "print(\"Clients monthly income is $500.\")"
   ]
  },
  {
   "cell_type": "code",
   "execution_count": 162,
   "metadata": {},
   "outputs": [
    {
     "name": "stdout",
     "output_type": "stream",
     "text": [
      "Clients projected yearly income is $6085.\n"
     ]
    }
   ],
   "source": [
    "print(\"Clients projected yearly income is $6085.\")"
   ]
  },
  {
   "cell_type": "markdown",
   "metadata": {},
   "source": [
    "---"
   ]
  },
  {
   "cell_type": "markdown",
   "metadata": {},
   "source": [
    "# Budget Analysis\n",
    "In this section, you will use the transactions DataFrame to analyze the customer's budget\n",
    "\n",
    "1. Calculate the total spending per category and print the results (Hint: groupby or count transactions per category)\n",
    "2. Generate a bar chart with the number of transactions for each category \n",
    "3. Calculate the expenses per month\n",
    "4. Plot the total expenses per month"
   ]
  },
  {
   "cell_type": "markdown",
   "metadata": {},
   "source": [
    "### Calculate the expenses per category"
   ]
  },
  {
   "cell_type": "code",
   "execution_count": 163,
   "metadata": {},
   "outputs": [
    {
     "data": {
      "text/html": [
       "<div>\n",
       "<style scoped>\n",
       "    .dataframe tbody tr th:only-of-type {\n",
       "        vertical-align: middle;\n",
       "    }\n",
       "\n",
       "    .dataframe tbody tr th {\n",
       "        vertical-align: top;\n",
       "    }\n",
       "\n",
       "    .dataframe thead th {\n",
       "        text-align: right;\n",
       "    }\n",
       "</style>\n",
       "<table border=\"1\" class=\"dataframe\">\n",
       "  <thead>\n",
       "    <tr style=\"text-align: right;\">\n",
       "      <th></th>\n",
       "      <th>date</th>\n",
       "      <th>name</th>\n",
       "      <th>amount</th>\n",
       "      <th>category</th>\n",
       "    </tr>\n",
       "  </thead>\n",
       "  <tbody>\n",
       "    <tr>\n",
       "      <th>0</th>\n",
       "      <td>2020-01-31</td>\n",
       "      <td>United Airlines</td>\n",
       "      <td>500.00</td>\n",
       "      <td>[Travel, Airlines and Aviation Services]</td>\n",
       "    </tr>\n",
       "    <tr>\n",
       "      <th>1</th>\n",
       "      <td>2020-01-29</td>\n",
       "      <td>Uber</td>\n",
       "      <td>6.33</td>\n",
       "      <td>[Travel, Taxi]</td>\n",
       "    </tr>\n",
       "    <tr>\n",
       "      <th>2</th>\n",
       "      <td>2020-01-26</td>\n",
       "      <td>Tectra Inc</td>\n",
       "      <td>500.00</td>\n",
       "      <td>[Food and Drink, Restaurants]</td>\n",
       "    </tr>\n",
       "    <tr>\n",
       "      <th>3</th>\n",
       "      <td>2020-01-25</td>\n",
       "      <td>AUTOMATIC PAYMENT - THANK</td>\n",
       "      <td>2078.50</td>\n",
       "      <td>[Payment]</td>\n",
       "    </tr>\n",
       "    <tr>\n",
       "      <th>4</th>\n",
       "      <td>2020-01-25</td>\n",
       "      <td>KFC</td>\n",
       "      <td>500.00</td>\n",
       "      <td>[Food and Drink, Restaurants, Fast Food]</td>\n",
       "    </tr>\n",
       "    <tr>\n",
       "      <th>5</th>\n",
       "      <td>2020-01-25</td>\n",
       "      <td>Madison Bicycle Shop</td>\n",
       "      <td>500.00</td>\n",
       "      <td>[Shops, Sporting Goods]</td>\n",
       "    </tr>\n",
       "    <tr>\n",
       "      <th>6</th>\n",
       "      <td>2020-01-16</td>\n",
       "      <td>CREDIT CARD 3333 PAYMENT *//</td>\n",
       "      <td>25.00</td>\n",
       "      <td>[Payment, Credit Card]</td>\n",
       "    </tr>\n",
       "    <tr>\n",
       "      <th>7</th>\n",
       "      <td>2020-01-16</td>\n",
       "      <td>Uber</td>\n",
       "      <td>5.40</td>\n",
       "      <td>[Travel, Taxi]</td>\n",
       "    </tr>\n",
       "    <tr>\n",
       "      <th>8</th>\n",
       "      <td>2020-01-15</td>\n",
       "      <td>ACH Electronic CreditGUSTO PAY 123456</td>\n",
       "      <td>5850.00</td>\n",
       "      <td>[Transfer, Debit]</td>\n",
       "    </tr>\n",
       "    <tr>\n",
       "      <th>9</th>\n",
       "      <td>2020-01-15</td>\n",
       "      <td>CD DEPOSIT .INITIAL.</td>\n",
       "      <td>1000.00</td>\n",
       "      <td>[Transfer, Deposit]</td>\n",
       "    </tr>\n",
       "  </tbody>\n",
       "</table>\n",
       "</div>"
      ],
      "text/plain": [
       "         date                                   name   amount  \\\n",
       "0  2020-01-31                        United Airlines   500.00   \n",
       "1  2020-01-29                                   Uber     6.33   \n",
       "2  2020-01-26                             Tectra Inc   500.00   \n",
       "3  2020-01-25              AUTOMATIC PAYMENT - THANK  2078.50   \n",
       "4  2020-01-25                                    KFC   500.00   \n",
       "5  2020-01-25                   Madison Bicycle Shop   500.00   \n",
       "6  2020-01-16           CREDIT CARD 3333 PAYMENT *//    25.00   \n",
       "7  2020-01-16                                   Uber     5.40   \n",
       "8  2020-01-15  ACH Electronic CreditGUSTO PAY 123456  5850.00   \n",
       "9  2020-01-15                   CD DEPOSIT .INITIAL.  1000.00   \n",
       "\n",
       "                                   category  \n",
       "0  [Travel, Airlines and Aviation Services]  \n",
       "1                            [Travel, Taxi]  \n",
       "2             [Food and Drink, Restaurants]  \n",
       "3                                 [Payment]  \n",
       "4  [Food and Drink, Restaurants, Fast Food]  \n",
       "5                   [Shops, Sporting Goods]  \n",
       "6                    [Payment, Credit Card]  \n",
       "7                            [Travel, Taxi]  \n",
       "8                         [Transfer, Debit]  \n",
       "9                       [Transfer, Deposit]  "
      ]
     },
     "execution_count": 163,
     "metadata": {},
     "output_type": "execute_result"
    }
   ],
   "source": [
    "# YOUR CODE HERE\n",
    "#data_df = data_df.rename(columns={\"amount\":\"cost_amount\"})\n",
    "data_df.head(10)"
   ]
  },
  {
   "cell_type": "code",
   "execution_count": 164,
   "metadata": {},
   "outputs": [],
   "source": [
    "cat_cost = data_df[['category','amount']]\n"
   ]
  },
  {
   "cell_type": "code",
   "execution_count": 165,
   "metadata": {},
   "outputs": [
    {
     "data": {
      "text/html": [
       "<div>\n",
       "<style scoped>\n",
       "    .dataframe tbody tr th:only-of-type {\n",
       "        vertical-align: middle;\n",
       "    }\n",
       "\n",
       "    .dataframe tbody tr th {\n",
       "        vertical-align: top;\n",
       "    }\n",
       "\n",
       "    .dataframe thead th {\n",
       "        text-align: right;\n",
       "    }\n",
       "</style>\n",
       "<table border=\"1\" class=\"dataframe\">\n",
       "  <thead>\n",
       "    <tr style=\"text-align: right;\">\n",
       "      <th></th>\n",
       "      <th>category</th>\n",
       "    </tr>\n",
       "    <tr>\n",
       "      <th>amount</th>\n",
       "      <th></th>\n",
       "    </tr>\n",
       "  </thead>\n",
       "  <tbody>\n",
       "    <tr>\n",
       "      <th>-500.00</th>\n",
       "      <td>[Travel, Airlines and Aviation Services, Trave...</td>\n",
       "    </tr>\n",
       "    <tr>\n",
       "      <th>-4.22</th>\n",
       "      <td>[Transfer, Credit, Transfer, Credit, Transfer,...</td>\n",
       "    </tr>\n",
       "    <tr>\n",
       "      <th>4.33</th>\n",
       "      <td>[Food and Drink, Restaurants, Coffee Shop, Foo...</td>\n",
       "    </tr>\n",
       "    <tr>\n",
       "      <th>5.40</th>\n",
       "      <td>[Travel, Taxi, Travel, Taxi, Travel, Taxi]</td>\n",
       "    </tr>\n",
       "    <tr>\n",
       "      <th>6.33</th>\n",
       "      <td>[Travel, Taxi, Travel, Taxi, Travel, Taxi]</td>\n",
       "    </tr>\n",
       "    <tr>\n",
       "      <th>12.00</th>\n",
       "      <td>[Food and Drink, Restaurants, Fast Food, Food ...</td>\n",
       "    </tr>\n",
       "    <tr>\n",
       "      <th>25.00</th>\n",
       "      <td>[Payment, Credit Card, Payment, Credit Card, P...</td>\n",
       "    </tr>\n",
       "    <tr>\n",
       "      <th>78.50</th>\n",
       "      <td>[Recreation, Gyms and Fitness Centers, Recreat...</td>\n",
       "    </tr>\n",
       "    <tr>\n",
       "      <th>89.40</th>\n",
       "      <td>[Food and Drink, Restaurants, Food and Drink, ...</td>\n",
       "    </tr>\n",
       "    <tr>\n",
       "      <th>500.00</th>\n",
       "      <td>[Travel, Airlines and Aviation Services, Food ...</td>\n",
       "    </tr>\n",
       "    <tr>\n",
       "      <th>1000.00</th>\n",
       "      <td>[Transfer, Deposit, Transfer, Deposit, Transfe...</td>\n",
       "    </tr>\n",
       "    <tr>\n",
       "      <th>2078.50</th>\n",
       "      <td>[Payment, Payment, Payment]</td>\n",
       "    </tr>\n",
       "    <tr>\n",
       "      <th>5850.00</th>\n",
       "      <td>[Transfer, Debit, Transfer, Debit, Transfer, D...</td>\n",
       "    </tr>\n",
       "  </tbody>\n",
       "</table>\n",
       "</div>"
      ],
      "text/plain": [
       "                                                   category\n",
       "amount                                                     \n",
       "-500.00   [Travel, Airlines and Aviation Services, Trave...\n",
       "-4.22     [Transfer, Credit, Transfer, Credit, Transfer,...\n",
       " 4.33     [Food and Drink, Restaurants, Coffee Shop, Foo...\n",
       " 5.40            [Travel, Taxi, Travel, Taxi, Travel, Taxi]\n",
       " 6.33            [Travel, Taxi, Travel, Taxi, Travel, Taxi]\n",
       " 12.00    [Food and Drink, Restaurants, Fast Food, Food ...\n",
       " 25.00    [Payment, Credit Card, Payment, Credit Card, P...\n",
       " 78.50    [Recreation, Gyms and Fitness Centers, Recreat...\n",
       " 89.40    [Food and Drink, Restaurants, Food and Drink, ...\n",
       " 500.00   [Travel, Airlines and Aviation Services, Food ...\n",
       " 1000.00  [Transfer, Deposit, Transfer, Deposit, Transfe...\n",
       " 2078.50                        [Payment, Payment, Payment]\n",
       " 5850.00  [Transfer, Debit, Transfer, Debit, Transfer, D..."
      ]
     },
     "execution_count": 165,
     "metadata": {},
     "output_type": "execute_result"
    }
   ],
   "source": [
    "cat_cost.groupby('amount').sum()"
   ]
  },
  {
   "cell_type": "code",
   "execution_count": 166,
   "metadata": {},
   "outputs": [],
   "source": [
    "cat = data_df['category'].value_counts()"
   ]
  },
  {
   "cell_type": "code",
   "execution_count": 167,
   "metadata": {},
   "outputs": [
    {
     "data": {
      "text/plain": [
       "<matplotlib.axes._subplots.AxesSubplot at 0x124126f10>"
      ]
     },
     "execution_count": 167,
     "metadata": {},
     "output_type": "execute_result"
    },
    {
     "data": {
      "image/png": "[encoded data removed]",
      "text/plain": [
       "<Figure size 720x432 with 1 Axes>"
      ]
     },
     "metadata": {
      "needs_background": "light"
     },
     "output_type": "display_data"
    }
   ],
   "source": [
    "cat.plot.bar(figsize=(10,6))"
   ]
  },
  {
   "cell_type": "markdown",
   "metadata": {},
   "source": [
    "Calculate the expenses per month"
   ]
  },
  {
   "cell_type": "code",
   "execution_count": 168,
   "metadata": {},
   "outputs": [
    {
     "data": {
      "text/html": [
       "<div>\n",
       "<style scoped>\n",
       "    .dataframe tbody tr th:only-of-type {\n",
       "        vertical-align: middle;\n",
       "    }\n",
       "\n",
       "    .dataframe tbody tr th {\n",
       "        vertical-align: top;\n",
       "    }\n",
       "\n",
       "    .dataframe thead th {\n",
       "        text-align: right;\n",
       "    }\n",
       "</style>\n",
       "<table border=\"1\" class=\"dataframe\">\n",
       "  <thead>\n",
       "    <tr style=\"text-align: right;\">\n",
       "      <th></th>\n",
       "      <th>date</th>\n",
       "      <th>name</th>\n",
       "      <th>amount</th>\n",
       "      <th>category</th>\n",
       "    </tr>\n",
       "  </thead>\n",
       "  <tbody>\n",
       "    <tr>\n",
       "      <th>0</th>\n",
       "      <td>2020-01-31</td>\n",
       "      <td>United Airlines</td>\n",
       "      <td>500.00</td>\n",
       "      <td>[Travel, Airlines and Aviation Services]</td>\n",
       "    </tr>\n",
       "    <tr>\n",
       "      <th>1</th>\n",
       "      <td>2020-01-29</td>\n",
       "      <td>Uber</td>\n",
       "      <td>6.33</td>\n",
       "      <td>[Travel, Taxi]</td>\n",
       "    </tr>\n",
       "    <tr>\n",
       "      <th>2</th>\n",
       "      <td>2020-01-26</td>\n",
       "      <td>Tectra Inc</td>\n",
       "      <td>500.00</td>\n",
       "      <td>[Food and Drink, Restaurants]</td>\n",
       "    </tr>\n",
       "    <tr>\n",
       "      <th>3</th>\n",
       "      <td>2020-01-25</td>\n",
       "      <td>AUTOMATIC PAYMENT - THANK</td>\n",
       "      <td>2078.50</td>\n",
       "      <td>[Payment]</td>\n",
       "    </tr>\n",
       "    <tr>\n",
       "      <th>4</th>\n",
       "      <td>2020-01-25</td>\n",
       "      <td>KFC</td>\n",
       "      <td>500.00</td>\n",
       "      <td>[Food and Drink, Restaurants, Fast Food]</td>\n",
       "    </tr>\n",
       "    <tr>\n",
       "      <th>5</th>\n",
       "      <td>2020-01-25</td>\n",
       "      <td>Madison Bicycle Shop</td>\n",
       "      <td>500.00</td>\n",
       "      <td>[Shops, Sporting Goods]</td>\n",
       "    </tr>\n",
       "    <tr>\n",
       "      <th>6</th>\n",
       "      <td>2020-01-16</td>\n",
       "      <td>CREDIT CARD 3333 PAYMENT *//</td>\n",
       "      <td>25.00</td>\n",
       "      <td>[Payment, Credit Card]</td>\n",
       "    </tr>\n",
       "    <tr>\n",
       "      <th>7</th>\n",
       "      <td>2020-01-16</td>\n",
       "      <td>Uber</td>\n",
       "      <td>5.40</td>\n",
       "      <td>[Travel, Taxi]</td>\n",
       "    </tr>\n",
       "    <tr>\n",
       "      <th>8</th>\n",
       "      <td>2020-01-15</td>\n",
       "      <td>ACH Electronic CreditGUSTO PAY 123456</td>\n",
       "      <td>5850.00</td>\n",
       "      <td>[Transfer, Debit]</td>\n",
       "    </tr>\n",
       "    <tr>\n",
       "      <th>9</th>\n",
       "      <td>2020-01-15</td>\n",
       "      <td>CD DEPOSIT .INITIAL.</td>\n",
       "      <td>1000.00</td>\n",
       "      <td>[Transfer, Deposit]</td>\n",
       "    </tr>\n",
       "  </tbody>\n",
       "</table>\n",
       "</div>"
      ],
      "text/plain": [
       "         date                                   name   amount  \\\n",
       "0  2020-01-31                        United Airlines   500.00   \n",
       "1  2020-01-29                                   Uber     6.33   \n",
       "2  2020-01-26                             Tectra Inc   500.00   \n",
       "3  2020-01-25              AUTOMATIC PAYMENT - THANK  2078.50   \n",
       "4  2020-01-25                                    KFC   500.00   \n",
       "5  2020-01-25                   Madison Bicycle Shop   500.00   \n",
       "6  2020-01-16           CREDIT CARD 3333 PAYMENT *//    25.00   \n",
       "7  2020-01-16                                   Uber     5.40   \n",
       "8  2020-01-15  ACH Electronic CreditGUSTO PAY 123456  5850.00   \n",
       "9  2020-01-15                   CD DEPOSIT .INITIAL.  1000.00   \n",
       "\n",
       "                                   category  \n",
       "0  [Travel, Airlines and Aviation Services]  \n",
       "1                            [Travel, Taxi]  \n",
       "2             [Food and Drink, Restaurants]  \n",
       "3                                 [Payment]  \n",
       "4  [Food and Drink, Restaurants, Fast Food]  \n",
       "5                   [Shops, Sporting Goods]  \n",
       "6                    [Payment, Credit Card]  \n",
       "7                            [Travel, Taxi]  \n",
       "8                         [Transfer, Debit]  \n",
       "9                       [Transfer, Deposit]  "
      ]
     },
     "execution_count": 168,
     "metadata": {},
     "output_type": "execute_result"
    }
   ],
   "source": [
    "data_df.head(10)"
   ]
  },
  {
   "cell_type": "code",
   "execution_count": 169,
   "metadata": {},
   "outputs": [],
   "source": [
    "month_ex = data_df[['date','amount']]\n"
   ]
  },
  {
   "cell_type": "code",
   "execution_count": 170,
   "metadata": {},
   "outputs": [
    {
     "data": {
      "text/html": [
       "<div>\n",
       "<style scoped>\n",
       "    .dataframe tbody tr th:only-of-type {\n",
       "        vertical-align: middle;\n",
       "    }\n",
       "\n",
       "    .dataframe tbody tr th {\n",
       "        vertical-align: top;\n",
       "    }\n",
       "\n",
       "    .dataframe thead th {\n",
       "        text-align: right;\n",
       "    }\n",
       "</style>\n",
       "<table border=\"1\" class=\"dataframe\">\n",
       "  <thead>\n",
       "    <tr style=\"text-align: right;\">\n",
       "      <th></th>\n",
       "      <th>date</th>\n",
       "      <th>amount</th>\n",
       "    </tr>\n",
       "  </thead>\n",
       "  <tbody>\n",
       "    <tr>\n",
       "      <th>0</th>\n",
       "      <td>2020-01-31</td>\n",
       "      <td>500.00</td>\n",
       "    </tr>\n",
       "    <tr>\n",
       "      <th>1</th>\n",
       "      <td>2020-01-29</td>\n",
       "      <td>6.33</td>\n",
       "    </tr>\n",
       "    <tr>\n",
       "      <th>2</th>\n",
       "      <td>2020-01-26</td>\n",
       "      <td>500.00</td>\n",
       "    </tr>\n",
       "    <tr>\n",
       "      <th>3</th>\n",
       "      <td>2020-01-25</td>\n",
       "      <td>2078.50</td>\n",
       "    </tr>\n",
       "    <tr>\n",
       "      <th>4</th>\n",
       "      <td>2020-01-25</td>\n",
       "      <td>500.00</td>\n",
       "    </tr>\n",
       "  </tbody>\n",
       "</table>\n",
       "</div>"
      ],
      "text/plain": [
       "         date   amount\n",
       "0  2020-01-31   500.00\n",
       "1  2020-01-29     6.33\n",
       "2  2020-01-26   500.00\n",
       "3  2020-01-25  2078.50\n",
       "4  2020-01-25   500.00"
      ]
     },
     "execution_count": 170,
     "metadata": {},
     "output_type": "execute_result"
    }
   ],
   "source": [
    "month_ex.head()"
   ]
  },
  {
   "cell_type": "code",
   "execution_count": 171,
   "metadata": {},
   "outputs": [],
   "source": [
    "month_ex.set_index(['date'], inplace=True)"
   ]
  },
  {
   "cell_type": "code",
   "execution_count": 172,
   "metadata": {},
   "outputs": [],
   "source": [
    "\n",
    "#month_exp.set_index(['date']).head()\n",
    "#month_ex['date']=month_ex.astype(timestamp)"
   ]
  },
  {
   "cell_type": "code",
   "execution_count": 173,
   "metadata": {},
   "outputs": [],
   "source": [
    "#month_ex.set_index(pd.DatetimeIndex(month_ex['date']),infer_datetime=True ).head() \n",
    "month_ex.index = pd.to_datetime(month_ex.index)"
   ]
  },
  {
   "cell_type": "code",
   "execution_count": 174,
   "metadata": {},
   "outputs": [
    {
     "data": {
      "text/plain": [
       "DatetimeIndex(['2020-01-31', '2020-01-29', '2020-01-26', '2020-01-25',\n",
       "               '2020-01-25', '2020-01-25', '2020-01-16', '2020-01-16',\n",
       "               '2020-01-15', '2020-01-15', '2020-01-14', '2020-01-14',\n",
       "               '2020-01-13', '2020-01-13', '2020-01-12', '2020-01-11',\n",
       "               '2020-01-01', '2019-12-30', '2019-12-27', '2019-12-26',\n",
       "               '2019-12-26', '2019-12-26', '2019-12-17', '2019-12-17',\n",
       "               '2019-12-16', '2019-12-16', '2019-12-15', '2019-12-15',\n",
       "               '2019-12-14', '2019-12-14', '2019-12-13', '2019-12-12',\n",
       "               '2019-12-02', '2019-11-30', '2019-11-27', '2019-11-26',\n",
       "               '2019-11-26', '2019-11-26', '2019-11-17', '2019-11-17',\n",
       "               '2019-11-16', '2019-11-16', '2019-11-15', '2019-11-15',\n",
       "               '2019-11-14', '2019-11-14', '2019-11-13', '2019-11-12'],\n",
       "              dtype='datetime64[ns]', name='date', freq=None)"
      ]
     },
     "execution_count": 174,
     "metadata": {},
     "output_type": "execute_result"
    }
   ],
   "source": [
    "month_ex.index"
   ]
  },
  {
   "cell_type": "code",
   "execution_count": 181,
   "metadata": {},
   "outputs": [
    {
     "data": {
      "text/plain": [
       "date\n",
       "2019-11-30    10145.24\n",
       "2019-12-31    10645.24\n",
       "2020-01-31    11145.24\n",
       "Freq: M, Name: amount, dtype: float64"
      ]
     },
     "execution_count": 181,
     "metadata": {},
     "output_type": "execute_result"
    }
   ],
   "source": [
    "month_ex['amount'].resample('M').sum()"
   ]
  },
  {
   "cell_type": "code",
   "execution_count": 176,
   "metadata": {},
   "outputs": [],
   "source": [
    "#.resample('M')\n",
    "#month_exp.sum()\n",
    "month_plot = month_ex['amount'].resample(\"M\").sum()\n"
   ]
  },
  {
   "cell_type": "code",
   "execution_count": 180,
   "metadata": {},
   "outputs": [
    {
     "data": {
      "text/plain": [
       "<matplotlib.axes._subplots.AxesSubplot at 0x122b78dd0>"
      ]
     },
     "execution_count": 180,
     "metadata": {},
     "output_type": "execute_result"
    },
    {
     "data": {
      "image/png": "[encoded data removed]",
      "text/plain": [
       "<Figure size 720x432 with 1 Axes>"
      ]
     },
     "metadata": {
      "needs_background": "light"
     },
     "output_type": "display_data"
    }
   ],
   "source": [
    "# YOUR CODE HERE\n",
    "\n",
    "month_plot.plot.bar(figsize=(10,6))"
   ]
  }
 ],
 "metadata": {
  "kernel_info": {
   "name": "dev"
  },
  "kernelspec": {
   "display_name": "QVer",
   "language": "python",
   "name": "qver"
  },
  "language_info": {
   "codemirror_mode": {
    "name": "ipython",
    "version": 3
   },
   "file_extension": ".py",
   "mimetype": "text/x-python",
   "name": "python",
   "nbconvert_exporter": "python",
   "pygments_lexer": "ipython3",
   "version": "3.7.6"
  },
  "nteract": {
   "version": "0.12.3"
  }
 },
 "nbformat": 4,
 "nbformat_minor": 4
}
