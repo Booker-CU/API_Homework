{
 "cells": [
  {
   "cell_type": "code",
   "execution_count": 1,
   "metadata": {},
   "outputs": [],
   "source": [
    "import numpy as np\n",
    "import pandas as pd\n",
    "from datetime import datetime, timedelta\n",
    "from pathlib import Path\n",
    "import matplotlib.pyplot as plt\n",
    "%matplotlib inline"
   ]
  },
  {
   "cell_type": "code",
   "execution_count": 2,
   "metadata": {},
   "outputs": [],
   "source": [
    "np.random.seed(42)"
   ]
  },
  {
   "cell_type": "markdown",
   "metadata": {},
   "source": [
    "# Portfolio Planner\n",
    "\n",
    "In this activity, you will use the iexfinance api to grab historical data for a 60/40 portfolio using `SPY` to represent the stock portion and `AGG` to represent the bonds."
   ]
  },
  {
   "cell_type": "code",
   "execution_count": 3,
   "metadata": {},
   "outputs": [],
   "source": [
    "from iexfinance.stocks import get_historical_data\n",
    "import iexfinance as iex"
   ]
  },
  {
   "cell_type": "code",
   "execution_count": 4,
   "metadata": {},
   "outputs": [
    {
     "ename": "SyntaxError",
     "evalue": "invalid syntax (<ipython-input-4-993ee5bb2ed5>, line 1)",
     "output_type": "error",
     "traceback": [
      "\u001b[0;36m  File \u001b[0;32m\"<ipython-input-4-993ee5bb2ed5>\"\u001b[0;36m, line \u001b[0;32m1\u001b[0m\n\u001b[0;31m    http://finance.yahoo.com/q?s=AAPL\u001b[0m\n\u001b[0m          ^\u001b[0m\n\u001b[0;31mSyntaxError\u001b[0m\u001b[0;31m:\u001b[0m invalid syntax\n"
     ]
    }
   ],
   "source": [
    "http://finance.yahoo.com/q?s=AAPL"
   ]
  },
  {
   "cell_type": "markdown",
   "metadata": {},
   "source": [
    "# Data Collection\n",
    "\n",
    "In this step, you will need to use the IEX api to fetch closing prices for the `SPY` and `AGG` tickers. Save the results as a pandas DataFrame"
   ]
  },
  {
   "cell_type": "code",
   "execution_count": 5,
   "metadata": {},
   "outputs": [],
   "source": [
    "list_of_tickers = [\"SPY\", \"AGG\"]\n",
    "# YOUR CODE HERE\n",
    "\n",
    "# Set start and end datetimes of 1 year, between now and 30 years ago.\n",
    "end_date = datetime.now()\n",
    "start_date = end_date + timedelta(-365)\n",
    "\n",
    "#Get 1 year's worth of historical data \n",
    "#df= get_historical_data(list_of_tickers, start_date, end_date,close_only=True, output_format='pandas')\n",
    "#df.head()\n"
   ]
  },
  {
   "cell_type": "code",
   "execution_count": 6,
   "metadata": {},
   "outputs": [],
   "source": [
    "#df.reset_index()"
   ]
  },
  {
   "cell_type": "code",
   "execution_count": 7,
   "metadata": {},
   "outputs": [],
   "source": [
    "#df.to_csv('df')"
   ]
  },
  {
   "cell_type": "code",
   "execution_count": 8,
   "metadata": {},
   "outputs": [],
   "source": [
    "#pull in saved dataframe\n",
    "spy_agg_csv = Path(\"df.csv\")\n",
    "\n",
    "spy_agg = pd.read_csv(spy_agg_csv,parse_dates=True,infer_datetime_format=True)"
   ]
  },
  {
   "cell_type": "code",
   "execution_count": 9,
   "metadata": {},
   "outputs": [
    {
     "data": {
      "text/html": [
       "<div>\n",
       "<style scoped>\n",
       "    .dataframe tbody tr th:only-of-type {\n",
       "        vertical-align: middle;\n",
       "    }\n",
       "\n",
       "    .dataframe tbody tr th {\n",
       "        vertical-align: top;\n",
       "    }\n",
       "\n",
       "    .dataframe thead th {\n",
       "        text-align: right;\n",
       "    }\n",
       "</style>\n",
       "<table border=\"1\" class=\"dataframe\">\n",
       "  <thead>\n",
       "    <tr style=\"text-align: right;\">\n",
       "      <th></th>\n",
       "      <th>Unnamed: 0</th>\n",
       "      <th>SPY Close</th>\n",
       "      <th>SPY Volume</th>\n",
       "      <th>AGG Close</th>\n",
       "      <th>AGG Volume</th>\n",
       "    </tr>\n",
       "  </thead>\n",
       "  <tbody>\n",
       "    <tr>\n",
       "      <td>0</td>\n",
       "      <td>date</td>\n",
       "      <td>NaN</td>\n",
       "      <td>NaN</td>\n",
       "      <td>NaN</td>\n",
       "      <td>NaN</td>\n",
       "    </tr>\n",
       "    <tr>\n",
       "      <td>1</td>\n",
       "      <td>2019-02-01</td>\n",
       "      <td>270.06</td>\n",
       "      <td>85782524.0</td>\n",
       "      <td>106.97</td>\n",
       "      <td>7227896.0</td>\n",
       "    </tr>\n",
       "    <tr>\n",
       "      <td>2</td>\n",
       "      <td>2019-02-04</td>\n",
       "      <td>271.96</td>\n",
       "      <td>60744844.0</td>\n",
       "      <td>106.88</td>\n",
       "      <td>14227726.0</td>\n",
       "    </tr>\n",
       "    <tr>\n",
       "      <td>3</td>\n",
       "      <td>2019-02-05</td>\n",
       "      <td>273.10</td>\n",
       "      <td>79552774.0</td>\n",
       "      <td>107.11</td>\n",
       "      <td>8913510.0</td>\n",
       "    </tr>\n",
       "    <tr>\n",
       "      <td>4</td>\n",
       "      <td>2019-02-06</td>\n",
       "      <td>272.74</td>\n",
       "      <td>58347791.0</td>\n",
       "      <td>107.05</td>\n",
       "      <td>6449575.0</td>\n",
       "    </tr>\n",
       "    <tr>\n",
       "      <td>5</td>\n",
       "      <td>2019-02-07</td>\n",
       "      <td>270.14</td>\n",
       "      <td>95481961.0</td>\n",
       "      <td>107.10</td>\n",
       "      <td>3938913.0</td>\n",
       "    </tr>\n",
       "    <tr>\n",
       "      <td>6</td>\n",
       "      <td>2019-02-08</td>\n",
       "      <td>270.47</td>\n",
       "      <td>75788861.0</td>\n",
       "      <td>107.34</td>\n",
       "      <td>4288562.0</td>\n",
       "    </tr>\n",
       "    <tr>\n",
       "      <td>7</td>\n",
       "      <td>2019-02-11</td>\n",
       "      <td>270.62</td>\n",
       "      <td>68021423.0</td>\n",
       "      <td>107.23</td>\n",
       "      <td>3521028.0</td>\n",
       "    </tr>\n",
       "    <tr>\n",
       "      <td>8</td>\n",
       "      <td>2019-02-12</td>\n",
       "      <td>274.10</td>\n",
       "      <td>72270221.0</td>\n",
       "      <td>107.25</td>\n",
       "      <td>3136691.0</td>\n",
       "    </tr>\n",
       "    <tr>\n",
       "      <td>9</td>\n",
       "      <td>2019-02-13</td>\n",
       "      <td>274.99</td>\n",
       "      <td>65277204.0</td>\n",
       "      <td>107.06</td>\n",
       "      <td>2526097.0</td>\n",
       "    </tr>\n",
       "    <tr>\n",
       "      <td>10</td>\n",
       "      <td>2019-02-14</td>\n",
       "      <td>274.38</td>\n",
       "      <td>83234396.0</td>\n",
       "      <td>107.22</td>\n",
       "      <td>2908486.0</td>\n",
       "    </tr>\n",
       "    <tr>\n",
       "      <td>11</td>\n",
       "      <td>2019-02-15</td>\n",
       "      <td>277.37</td>\n",
       "      <td>97088659.0</td>\n",
       "      <td>107.30</td>\n",
       "      <td>2413984.0</td>\n",
       "    </tr>\n",
       "    <tr>\n",
       "      <td>12</td>\n",
       "      <td>2019-02-19</td>\n",
       "      <td>277.85</td>\n",
       "      <td>59120804.0</td>\n",
       "      <td>107.36</td>\n",
       "      <td>6235519.0</td>\n",
       "    </tr>\n",
       "    <tr>\n",
       "      <td>13</td>\n",
       "      <td>2019-02-20</td>\n",
       "      <td>278.41</td>\n",
       "      <td>76610767.0</td>\n",
       "      <td>107.37</td>\n",
       "      <td>3231241.0</td>\n",
       "    </tr>\n",
       "    <tr>\n",
       "      <td>14</td>\n",
       "      <td>2019-02-21</td>\n",
       "      <td>277.42</td>\n",
       "      <td>64214727.0</td>\n",
       "      <td>107.13</td>\n",
       "      <td>3676956.0</td>\n",
       "    </tr>\n",
       "    <tr>\n",
       "      <td>15</td>\n",
       "      <td>2019-02-22</td>\n",
       "      <td>279.14</td>\n",
       "      <td>78114616.0</td>\n",
       "      <td>107.40</td>\n",
       "      <td>2731541.0</td>\n",
       "    </tr>\n",
       "    <tr>\n",
       "      <td>16</td>\n",
       "      <td>2019-02-25</td>\n",
       "      <td>279.52</td>\n",
       "      <td>69030699.0</td>\n",
       "      <td>107.37</td>\n",
       "      <td>3645391.0</td>\n",
       "    </tr>\n",
       "    <tr>\n",
       "      <td>17</td>\n",
       "      <td>2019-02-26</td>\n",
       "      <td>279.32</td>\n",
       "      <td>56844101.0</td>\n",
       "      <td>107.49</td>\n",
       "      <td>4759394.0</td>\n",
       "    </tr>\n",
       "    <tr>\n",
       "      <td>18</td>\n",
       "      <td>2019-02-27</td>\n",
       "      <td>279.20</td>\n",
       "      <td>56921570.0</td>\n",
       "      <td>107.26</td>\n",
       "      <td>2988342.0</td>\n",
       "    </tr>\n",
       "    <tr>\n",
       "      <td>19</td>\n",
       "      <td>2019-02-28</td>\n",
       "      <td>278.68</td>\n",
       "      <td>69268293.0</td>\n",
       "      <td>107.07</td>\n",
       "      <td>11872108.0</td>\n",
       "    </tr>\n",
       "  </tbody>\n",
       "</table>\n",
       "</div>"
      ],
      "text/plain": [
       "    Unnamed: 0  SPY Close  SPY Volume  AGG Close  AGG Volume\n",
       "0         date        NaN         NaN        NaN         NaN\n",
       "1   2019-02-01     270.06  85782524.0     106.97   7227896.0\n",
       "2   2019-02-04     271.96  60744844.0     106.88  14227726.0\n",
       "3   2019-02-05     273.10  79552774.0     107.11   8913510.0\n",
       "4   2019-02-06     272.74  58347791.0     107.05   6449575.0\n",
       "5   2019-02-07     270.14  95481961.0     107.10   3938913.0\n",
       "6   2019-02-08     270.47  75788861.0     107.34   4288562.0\n",
       "7   2019-02-11     270.62  68021423.0     107.23   3521028.0\n",
       "8   2019-02-12     274.10  72270221.0     107.25   3136691.0\n",
       "9   2019-02-13     274.99  65277204.0     107.06   2526097.0\n",
       "10  2019-02-14     274.38  83234396.0     107.22   2908486.0\n",
       "11  2019-02-15     277.37  97088659.0     107.30   2413984.0\n",
       "12  2019-02-19     277.85  59120804.0     107.36   6235519.0\n",
       "13  2019-02-20     278.41  76610767.0     107.37   3231241.0\n",
       "14  2019-02-21     277.42  64214727.0     107.13   3676956.0\n",
       "15  2019-02-22     279.14  78114616.0     107.40   2731541.0\n",
       "16  2019-02-25     279.52  69030699.0     107.37   3645391.0\n",
       "17  2019-02-26     279.32  56844101.0     107.49   4759394.0\n",
       "18  2019-02-27     279.20  56921570.0     107.26   2988342.0\n",
       "19  2019-02-28     278.68  69268293.0     107.07  11872108.0"
      ]
     },
     "execution_count": 9,
     "metadata": {},
     "output_type": "execute_result"
    }
   ],
   "source": [
    "spy_agg.head(20)"
   ]
  },
  {
   "cell_type": "code",
   "execution_count": 10,
   "metadata": {},
   "outputs": [
    {
     "data": {
      "text/html": [
       "<div>\n",
       "<style scoped>\n",
       "    .dataframe tbody tr th:only-of-type {\n",
       "        vertical-align: middle;\n",
       "    }\n",
       "\n",
       "    .dataframe tbody tr th {\n",
       "        vertical-align: top;\n",
       "    }\n",
       "\n",
       "    .dataframe thead th {\n",
       "        text-align: right;\n",
       "    }\n",
       "</style>\n",
       "<table border=\"1\" class=\"dataframe\">\n",
       "  <thead>\n",
       "    <tr style=\"text-align: right;\">\n",
       "      <th></th>\n",
       "      <th>Unnamed: 0</th>\n",
       "      <th>SPY Close</th>\n",
       "      <th>SPY Volume</th>\n",
       "      <th>AGG Close</th>\n",
       "      <th>AGG Volume</th>\n",
       "    </tr>\n",
       "  </thead>\n",
       "  <tbody>\n",
       "    <tr>\n",
       "      <td>1</td>\n",
       "      <td>2019-02-01</td>\n",
       "      <td>270.06</td>\n",
       "      <td>85782524.0</td>\n",
       "      <td>106.97</td>\n",
       "      <td>7227896.0</td>\n",
       "    </tr>\n",
       "    <tr>\n",
       "      <td>2</td>\n",
       "      <td>2019-02-04</td>\n",
       "      <td>271.96</td>\n",
       "      <td>60744844.0</td>\n",
       "      <td>106.88</td>\n",
       "      <td>14227726.0</td>\n",
       "    </tr>\n",
       "    <tr>\n",
       "      <td>3</td>\n",
       "      <td>2019-02-05</td>\n",
       "      <td>273.10</td>\n",
       "      <td>79552774.0</td>\n",
       "      <td>107.11</td>\n",
       "      <td>8913510.0</td>\n",
       "    </tr>\n",
       "    <tr>\n",
       "      <td>4</td>\n",
       "      <td>2019-02-06</td>\n",
       "      <td>272.74</td>\n",
       "      <td>58347791.0</td>\n",
       "      <td>107.05</td>\n",
       "      <td>6449575.0</td>\n",
       "    </tr>\n",
       "    <tr>\n",
       "      <td>5</td>\n",
       "      <td>2019-02-07</td>\n",
       "      <td>270.14</td>\n",
       "      <td>95481961.0</td>\n",
       "      <td>107.10</td>\n",
       "      <td>3938913.0</td>\n",
       "    </tr>\n",
       "    <tr>\n",
       "      <td>...</td>\n",
       "      <td>...</td>\n",
       "      <td>...</td>\n",
       "      <td>...</td>\n",
       "      <td>...</td>\n",
       "      <td>...</td>\n",
       "    </tr>\n",
       "    <tr>\n",
       "      <td>248</td>\n",
       "      <td>2020-01-27</td>\n",
       "      <td>323.50</td>\n",
       "      <td>84062463.0</td>\n",
       "      <td>114.14</td>\n",
       "      <td>4790076.0</td>\n",
       "    </tr>\n",
       "    <tr>\n",
       "      <td>249</td>\n",
       "      <td>2020-01-28</td>\n",
       "      <td>326.89</td>\n",
       "      <td>63833953.0</td>\n",
       "      <td>114.04</td>\n",
       "      <td>4463823.0</td>\n",
       "    </tr>\n",
       "    <tr>\n",
       "      <td>250</td>\n",
       "      <td>2020-01-29</td>\n",
       "      <td>326.62</td>\n",
       "      <td>54040889.0</td>\n",
       "      <td>114.30</td>\n",
       "      <td>2890247.0</td>\n",
       "    </tr>\n",
       "    <tr>\n",
       "      <td>251</td>\n",
       "      <td>2020-01-30</td>\n",
       "      <td>327.68</td>\n",
       "      <td>75491844.0</td>\n",
       "      <td>114.31</td>\n",
       "      <td>6885551.0</td>\n",
       "    </tr>\n",
       "    <tr>\n",
       "      <td>252</td>\n",
       "      <td>2020-01-31</td>\n",
       "      <td>321.73</td>\n",
       "      <td>113845576.0</td>\n",
       "      <td>114.65</td>\n",
       "      <td>5061895.0</td>\n",
       "    </tr>\n",
       "  </tbody>\n",
       "</table>\n",
       "<p>252 rows × 5 columns</p>\n",
       "</div>"
      ],
      "text/plain": [
       "     Unnamed: 0  SPY Close   SPY Volume  AGG Close  AGG Volume\n",
       "1    2019-02-01     270.06   85782524.0     106.97   7227896.0\n",
       "2    2019-02-04     271.96   60744844.0     106.88  14227726.0\n",
       "3    2019-02-05     273.10   79552774.0     107.11   8913510.0\n",
       "4    2019-02-06     272.74   58347791.0     107.05   6449575.0\n",
       "5    2019-02-07     270.14   95481961.0     107.10   3938913.0\n",
       "..          ...        ...          ...        ...         ...\n",
       "248  2020-01-27     323.50   84062463.0     114.14   4790076.0\n",
       "249  2020-01-28     326.89   63833953.0     114.04   4463823.0\n",
       "250  2020-01-29     326.62   54040889.0     114.30   2890247.0\n",
       "251  2020-01-30     327.68   75491844.0     114.31   6885551.0\n",
       "252  2020-01-31     321.73  113845576.0     114.65   5061895.0\n",
       "\n",
       "[252 rows x 5 columns]"
      ]
     },
     "execution_count": 10,
     "metadata": {},
     "output_type": "execute_result"
    }
   ],
   "source": [
    "spy_agg = spy_agg.dropna()\n",
    "spy_agg"
   ]
  },
  {
   "cell_type": "code",
   "execution_count": 11,
   "metadata": {},
   "outputs": [
    {
     "data": {
      "text/html": [
       "<div>\n",
       "<style scoped>\n",
       "    .dataframe tbody tr th:only-of-type {\n",
       "        vertical-align: middle;\n",
       "    }\n",
       "\n",
       "    .dataframe tbody tr th {\n",
       "        vertical-align: top;\n",
       "    }\n",
       "\n",
       "    .dataframe thead th {\n",
       "        text-align: right;\n",
       "    }\n",
       "</style>\n",
       "<table border=\"1\" class=\"dataframe\">\n",
       "  <thead>\n",
       "    <tr style=\"text-align: right;\">\n",
       "      <th></th>\n",
       "      <th>Date</th>\n",
       "      <th>SPY Close</th>\n",
       "      <th>SPY Volume</th>\n",
       "      <th>AGG Close</th>\n",
       "      <th>AGG Volume</th>\n",
       "    </tr>\n",
       "  </thead>\n",
       "  <tbody>\n",
       "    <tr>\n",
       "      <td>1</td>\n",
       "      <td>2019-02-01</td>\n",
       "      <td>270.06</td>\n",
       "      <td>85782524.0</td>\n",
       "      <td>106.97</td>\n",
       "      <td>7227896.0</td>\n",
       "    </tr>\n",
       "    <tr>\n",
       "      <td>2</td>\n",
       "      <td>2019-02-04</td>\n",
       "      <td>271.96</td>\n",
       "      <td>60744844.0</td>\n",
       "      <td>106.88</td>\n",
       "      <td>14227726.0</td>\n",
       "    </tr>\n",
       "    <tr>\n",
       "      <td>3</td>\n",
       "      <td>2019-02-05</td>\n",
       "      <td>273.10</td>\n",
       "      <td>79552774.0</td>\n",
       "      <td>107.11</td>\n",
       "      <td>8913510.0</td>\n",
       "    </tr>\n",
       "    <tr>\n",
       "      <td>4</td>\n",
       "      <td>2019-02-06</td>\n",
       "      <td>272.74</td>\n",
       "      <td>58347791.0</td>\n",
       "      <td>107.05</td>\n",
       "      <td>6449575.0</td>\n",
       "    </tr>\n",
       "    <tr>\n",
       "      <td>5</td>\n",
       "      <td>2019-02-07</td>\n",
       "      <td>270.14</td>\n",
       "      <td>95481961.0</td>\n",
       "      <td>107.10</td>\n",
       "      <td>3938913.0</td>\n",
       "    </tr>\n",
       "    <tr>\n",
       "      <td>...</td>\n",
       "      <td>...</td>\n",
       "      <td>...</td>\n",
       "      <td>...</td>\n",
       "      <td>...</td>\n",
       "      <td>...</td>\n",
       "    </tr>\n",
       "    <tr>\n",
       "      <td>248</td>\n",
       "      <td>2020-01-27</td>\n",
       "      <td>323.50</td>\n",
       "      <td>84062463.0</td>\n",
       "      <td>114.14</td>\n",
       "      <td>4790076.0</td>\n",
       "    </tr>\n",
       "    <tr>\n",
       "      <td>249</td>\n",
       "      <td>2020-01-28</td>\n",
       "      <td>326.89</td>\n",
       "      <td>63833953.0</td>\n",
       "      <td>114.04</td>\n",
       "      <td>4463823.0</td>\n",
       "    </tr>\n",
       "    <tr>\n",
       "      <td>250</td>\n",
       "      <td>2020-01-29</td>\n",
       "      <td>326.62</td>\n",
       "      <td>54040889.0</td>\n",
       "      <td>114.30</td>\n",
       "      <td>2890247.0</td>\n",
       "    </tr>\n",
       "    <tr>\n",
       "      <td>251</td>\n",
       "      <td>2020-01-30</td>\n",
       "      <td>327.68</td>\n",
       "      <td>75491844.0</td>\n",
       "      <td>114.31</td>\n",
       "      <td>6885551.0</td>\n",
       "    </tr>\n",
       "    <tr>\n",
       "      <td>252</td>\n",
       "      <td>2020-01-31</td>\n",
       "      <td>321.73</td>\n",
       "      <td>113845576.0</td>\n",
       "      <td>114.65</td>\n",
       "      <td>5061895.0</td>\n",
       "    </tr>\n",
       "  </tbody>\n",
       "</table>\n",
       "<p>252 rows × 5 columns</p>\n",
       "</div>"
      ],
      "text/plain": [
       "           Date  SPY Close   SPY Volume  AGG Close  AGG Volume\n",
       "1    2019-02-01     270.06   85782524.0     106.97   7227896.0\n",
       "2    2019-02-04     271.96   60744844.0     106.88  14227726.0\n",
       "3    2019-02-05     273.10   79552774.0     107.11   8913510.0\n",
       "4    2019-02-06     272.74   58347791.0     107.05   6449575.0\n",
       "5    2019-02-07     270.14   95481961.0     107.10   3938913.0\n",
       "..          ...        ...          ...        ...         ...\n",
       "248  2020-01-27     323.50   84062463.0     114.14   4790076.0\n",
       "249  2020-01-28     326.89   63833953.0     114.04   4463823.0\n",
       "250  2020-01-29     326.62   54040889.0     114.30   2890247.0\n",
       "251  2020-01-30     327.68   75491844.0     114.31   6885551.0\n",
       "252  2020-01-31     321.73  113845576.0     114.65   5061895.0\n",
       "\n",
       "[252 rows x 5 columns]"
      ]
     },
     "execution_count": 11,
     "metadata": {},
     "output_type": "execute_result"
    }
   ],
   "source": [
    "spy_agg = spy_agg.rename(columns={\"Unnamed: 0\":\"Date\"})\n",
    "spy_agg"
   ]
  },
  {
   "cell_type": "code",
   "execution_count": 12,
   "metadata": {},
   "outputs": [],
   "source": [
    "spy_agg_df = spy_agg[['Date','SPY Close','AGG Close']]"
   ]
  },
  {
   "cell_type": "code",
   "execution_count": 13,
   "metadata": {},
   "outputs": [],
   "source": [
    "spy_agg_df = spy_agg_df.dropna()"
   ]
  },
  {
   "cell_type": "code",
   "execution_count": 14,
   "metadata": {},
   "outputs": [
    {
     "data": {
      "text/html": [
       "<div>\n",
       "<style scoped>\n",
       "    .dataframe tbody tr th:only-of-type {\n",
       "        vertical-align: middle;\n",
       "    }\n",
       "\n",
       "    .dataframe tbody tr th {\n",
       "        vertical-align: top;\n",
       "    }\n",
       "\n",
       "    .dataframe thead th {\n",
       "        text-align: right;\n",
       "    }\n",
       "</style>\n",
       "<table border=\"1\" class=\"dataframe\">\n",
       "  <thead>\n",
       "    <tr style=\"text-align: right;\">\n",
       "      <th></th>\n",
       "      <th>Date</th>\n",
       "      <th>SPY Close</th>\n",
       "      <th>AGG Close</th>\n",
       "    </tr>\n",
       "  </thead>\n",
       "  <tbody>\n",
       "    <tr>\n",
       "      <td>1</td>\n",
       "      <td>2019-02-01</td>\n",
       "      <td>270.06</td>\n",
       "      <td>106.97</td>\n",
       "    </tr>\n",
       "    <tr>\n",
       "      <td>2</td>\n",
       "      <td>2019-02-04</td>\n",
       "      <td>271.96</td>\n",
       "      <td>106.88</td>\n",
       "    </tr>\n",
       "    <tr>\n",
       "      <td>3</td>\n",
       "      <td>2019-02-05</td>\n",
       "      <td>273.10</td>\n",
       "      <td>107.11</td>\n",
       "    </tr>\n",
       "    <tr>\n",
       "      <td>4</td>\n",
       "      <td>2019-02-06</td>\n",
       "      <td>272.74</td>\n",
       "      <td>107.05</td>\n",
       "    </tr>\n",
       "    <tr>\n",
       "      <td>5</td>\n",
       "      <td>2019-02-07</td>\n",
       "      <td>270.14</td>\n",
       "      <td>107.10</td>\n",
       "    </tr>\n",
       "    <tr>\n",
       "      <td>...</td>\n",
       "      <td>...</td>\n",
       "      <td>...</td>\n",
       "      <td>...</td>\n",
       "    </tr>\n",
       "    <tr>\n",
       "      <td>248</td>\n",
       "      <td>2020-01-27</td>\n",
       "      <td>323.50</td>\n",
       "      <td>114.14</td>\n",
       "    </tr>\n",
       "    <tr>\n",
       "      <td>249</td>\n",
       "      <td>2020-01-28</td>\n",
       "      <td>326.89</td>\n",
       "      <td>114.04</td>\n",
       "    </tr>\n",
       "    <tr>\n",
       "      <td>250</td>\n",
       "      <td>2020-01-29</td>\n",
       "      <td>326.62</td>\n",
       "      <td>114.30</td>\n",
       "    </tr>\n",
       "    <tr>\n",
       "      <td>251</td>\n",
       "      <td>2020-01-30</td>\n",
       "      <td>327.68</td>\n",
       "      <td>114.31</td>\n",
       "    </tr>\n",
       "    <tr>\n",
       "      <td>252</td>\n",
       "      <td>2020-01-31</td>\n",
       "      <td>321.73</td>\n",
       "      <td>114.65</td>\n",
       "    </tr>\n",
       "  </tbody>\n",
       "</table>\n",
       "<p>252 rows × 3 columns</p>\n",
       "</div>"
      ],
      "text/plain": [
       "           Date  SPY Close  AGG Close\n",
       "1    2019-02-01     270.06     106.97\n",
       "2    2019-02-04     271.96     106.88\n",
       "3    2019-02-05     273.10     107.11\n",
       "4    2019-02-06     272.74     107.05\n",
       "5    2019-02-07     270.14     107.10\n",
       "..          ...        ...        ...\n",
       "248  2020-01-27     323.50     114.14\n",
       "249  2020-01-28     326.89     114.04\n",
       "250  2020-01-29     326.62     114.30\n",
       "251  2020-01-30     327.68     114.31\n",
       "252  2020-01-31     321.73     114.65\n",
       "\n",
       "[252 rows x 3 columns]"
      ]
     },
     "execution_count": 14,
     "metadata": {},
     "output_type": "execute_result"
    }
   ],
   "source": [
    "spy_agg_df "
   ]
  },
  {
   "cell_type": "code",
   "execution_count": 15,
   "metadata": {},
   "outputs": [],
   "source": [
    "spy_agg_df.set_index(['Date'], inplace=True)"
   ]
  },
  {
   "cell_type": "code",
   "execution_count": 16,
   "metadata": {},
   "outputs": [],
   "source": [
    "spy_agg_df.index = pd.to_datetime(spy_agg_df.index)"
   ]
  },
  {
   "cell_type": "code",
   "execution_count": 17,
   "metadata": {},
   "outputs": [
    {
     "data": {
      "text/html": [
       "<div>\n",
       "<style scoped>\n",
       "    .dataframe tbody tr th:only-of-type {\n",
       "        vertical-align: middle;\n",
       "    }\n",
       "\n",
       "    .dataframe tbody tr th {\n",
       "        vertical-align: top;\n",
       "    }\n",
       "\n",
       "    .dataframe thead th {\n",
       "        text-align: right;\n",
       "    }\n",
       "</style>\n",
       "<table border=\"1\" class=\"dataframe\">\n",
       "  <thead>\n",
       "    <tr style=\"text-align: right;\">\n",
       "      <th></th>\n",
       "      <th>SPY Close</th>\n",
       "      <th>AGG Close</th>\n",
       "    </tr>\n",
       "    <tr>\n",
       "      <th>Date</th>\n",
       "      <th></th>\n",
       "      <th></th>\n",
       "    </tr>\n",
       "  </thead>\n",
       "  <tbody>\n",
       "    <tr>\n",
       "      <td>2019-02-01</td>\n",
       "      <td>270.06</td>\n",
       "      <td>106.97</td>\n",
       "    </tr>\n",
       "    <tr>\n",
       "      <td>2019-02-04</td>\n",
       "      <td>271.96</td>\n",
       "      <td>106.88</td>\n",
       "    </tr>\n",
       "    <tr>\n",
       "      <td>2019-02-05</td>\n",
       "      <td>273.10</td>\n",
       "      <td>107.11</td>\n",
       "    </tr>\n",
       "    <tr>\n",
       "      <td>2019-02-06</td>\n",
       "      <td>272.74</td>\n",
       "      <td>107.05</td>\n",
       "    </tr>\n",
       "    <tr>\n",
       "      <td>2019-02-07</td>\n",
       "      <td>270.14</td>\n",
       "      <td>107.10</td>\n",
       "    </tr>\n",
       "    <tr>\n",
       "      <td>2019-02-08</td>\n",
       "      <td>270.47</td>\n",
       "      <td>107.34</td>\n",
       "    </tr>\n",
       "    <tr>\n",
       "      <td>2019-02-11</td>\n",
       "      <td>270.62</td>\n",
       "      <td>107.23</td>\n",
       "    </tr>\n",
       "    <tr>\n",
       "      <td>2019-02-12</td>\n",
       "      <td>274.10</td>\n",
       "      <td>107.25</td>\n",
       "    </tr>\n",
       "    <tr>\n",
       "      <td>2019-02-13</td>\n",
       "      <td>274.99</td>\n",
       "      <td>107.06</td>\n",
       "    </tr>\n",
       "    <tr>\n",
       "      <td>2019-02-14</td>\n",
       "      <td>274.38</td>\n",
       "      <td>107.22</td>\n",
       "    </tr>\n",
       "  </tbody>\n",
       "</table>\n",
       "</div>"
      ],
      "text/plain": [
       "            SPY Close  AGG Close\n",
       "Date                            \n",
       "2019-02-01     270.06     106.97\n",
       "2019-02-04     271.96     106.88\n",
       "2019-02-05     273.10     107.11\n",
       "2019-02-06     272.74     107.05\n",
       "2019-02-07     270.14     107.10\n",
       "2019-02-08     270.47     107.34\n",
       "2019-02-11     270.62     107.23\n",
       "2019-02-12     274.10     107.25\n",
       "2019-02-13     274.99     107.06\n",
       "2019-02-14     274.38     107.22"
      ]
     },
     "execution_count": 17,
     "metadata": {},
     "output_type": "execute_result"
    }
   ],
   "source": [
    "spy_agg_df.head(10)"
   ]
  },
  {
   "cell_type": "markdown",
   "metadata": {},
   "source": [
    "# Monte Carlo Simulation\n",
    "\n",
    "In this step, you will run Monte Carlo Simulations for your portfolio to model portfolio performance at different retirement ages. \n",
    "\n",
    "Complete the following steps:\n",
    "1. Calculate the daily returns for the SPY and AGG closing prices.\n",
    "2. Calculate volatility for both the SPY and AGG closing prices.\n",
    "3. Find the last day's closing price for both stocks and save those as variables.\n",
    "4. Run a Monte Carlo Simulation of at least 500 iterations and generate at least 30 years of closing prices\n",
    "\n",
    "### HINTS:\n",
    "There are 252 trading days per year, so the number of records to generate for each Monte Carlo run will be 252 days * 30 years"
   ]
  },
  {
   "cell_type": "code",
   "execution_count": 18,
   "metadata": {},
   "outputs": [
    {
     "data": {
      "text/html": [
       "<div>\n",
       "<style scoped>\n",
       "    .dataframe tbody tr th:only-of-type {\n",
       "        vertical-align: middle;\n",
       "    }\n",
       "\n",
       "    .dataframe tbody tr th {\n",
       "        vertical-align: top;\n",
       "    }\n",
       "\n",
       "    .dataframe thead th {\n",
       "        text-align: right;\n",
       "    }\n",
       "</style>\n",
       "<table border=\"1\" class=\"dataframe\">\n",
       "  <thead>\n",
       "    <tr style=\"text-align: right;\">\n",
       "      <th></th>\n",
       "      <th>SPY Close</th>\n",
       "      <th>AGG Close</th>\n",
       "    </tr>\n",
       "    <tr>\n",
       "      <th>Date</th>\n",
       "      <th></th>\n",
       "      <th></th>\n",
       "    </tr>\n",
       "  </thead>\n",
       "  <tbody>\n",
       "    <tr>\n",
       "      <td>2019-02-04</td>\n",
       "      <td>0.007035</td>\n",
       "      <td>-0.000841</td>\n",
       "    </tr>\n",
       "    <tr>\n",
       "      <td>2019-02-05</td>\n",
       "      <td>0.004192</td>\n",
       "      <td>0.002152</td>\n",
       "    </tr>\n",
       "    <tr>\n",
       "      <td>2019-02-06</td>\n",
       "      <td>-0.001318</td>\n",
       "      <td>-0.000560</td>\n",
       "    </tr>\n",
       "    <tr>\n",
       "      <td>2019-02-07</td>\n",
       "      <td>-0.009533</td>\n",
       "      <td>0.000467</td>\n",
       "    </tr>\n",
       "    <tr>\n",
       "      <td>2019-02-08</td>\n",
       "      <td>0.001222</td>\n",
       "      <td>0.002241</td>\n",
       "    </tr>\n",
       "    <tr>\n",
       "      <td>...</td>\n",
       "      <td>...</td>\n",
       "      <td>...</td>\n",
       "    </tr>\n",
       "    <tr>\n",
       "      <td>2020-01-27</td>\n",
       "      <td>-0.016029</td>\n",
       "      <td>0.003076</td>\n",
       "    </tr>\n",
       "    <tr>\n",
       "      <td>2020-01-28</td>\n",
       "      <td>0.010479</td>\n",
       "      <td>-0.000876</td>\n",
       "    </tr>\n",
       "    <tr>\n",
       "      <td>2020-01-29</td>\n",
       "      <td>-0.000826</td>\n",
       "      <td>0.002280</td>\n",
       "    </tr>\n",
       "    <tr>\n",
       "      <td>2020-01-30</td>\n",
       "      <td>0.003245</td>\n",
       "      <td>0.000087</td>\n",
       "    </tr>\n",
       "    <tr>\n",
       "      <td>2020-01-31</td>\n",
       "      <td>-0.018158</td>\n",
       "      <td>0.002974</td>\n",
       "    </tr>\n",
       "  </tbody>\n",
       "</table>\n",
       "<p>251 rows × 2 columns</p>\n",
       "</div>"
      ],
      "text/plain": [
       "            SPY Close  AGG Close\n",
       "Date                            \n",
       "2019-02-04   0.007035  -0.000841\n",
       "2019-02-05   0.004192   0.002152\n",
       "2019-02-06  -0.001318  -0.000560\n",
       "2019-02-07  -0.009533   0.000467\n",
       "2019-02-08   0.001222   0.002241\n",
       "...               ...        ...\n",
       "2020-01-27  -0.016029   0.003076\n",
       "2020-01-28   0.010479  -0.000876\n",
       "2020-01-29  -0.000826   0.002280\n",
       "2020-01-30   0.003245   0.000087\n",
       "2020-01-31  -0.018158   0.002974\n",
       "\n",
       "[251 rows x 2 columns]"
      ]
     },
     "execution_count": 18,
     "metadata": {},
     "output_type": "execute_result"
    }
   ],
   "source": [
    "# Calculate the daily roi for the stocks\n",
    "# YOUR CODE HERE\n",
    "spy_agg_daily_rtn = spy_agg_df.pct_change()\n",
    "spy_agg_daily_rtn = spy_agg_daily_rtn.dropna()\n",
    "spy_agg_daily_rtn\n"
   ]
  },
  {
   "cell_type": "code",
   "execution_count": 19,
   "metadata": {},
   "outputs": [
    {
     "data": {
      "text/plain": [
       "0.00027840613118700216"
      ]
     },
     "execution_count": 19,
     "metadata": {},
     "output_type": "execute_result"
    }
   ],
   "source": [
    "\n",
    "# Use the `mean` function to calculate the mean of daily returns for `JNJ` and `MU`, respectively\n",
    "avg_daily_return_spy = spy_agg_daily_rtn.mean()['SPY Close']\n",
    "avg_daily_return_agg = spy_agg_daily_rtn.mean()['AGG Close']\n",
    "avg_daily_return_agg"
   ]
  },
  {
   "cell_type": "code",
   "execution_count": 20,
   "metadata": {},
   "outputs": [
    {
     "data": {
      "text/plain": [
       "0.0007258594971833797"
      ]
     },
     "execution_count": 20,
     "metadata": {},
     "output_type": "execute_result"
    }
   ],
   "source": [
    "avg_daily_return_spy"
   ]
  },
  {
   "cell_type": "code",
   "execution_count": 21,
   "metadata": {},
   "outputs": [
    {
     "data": {
      "text/plain": [
       "0.0075014610182649235"
      ]
     },
     "execution_count": 21,
     "metadata": {},
     "output_type": "execute_result"
    }
   ],
   "source": [
    "# Calculate volatility\n",
    "# YOUR CODE HERE\n",
    "spy_std = spy_agg_daily_rtn.std()['SPY Close']\n",
    "agg_std = spy_agg_daily_rtn.std()['AGG Close']\n",
    "spy_std"
   ]
  },
  {
   "cell_type": "code",
   "execution_count": 22,
   "metadata": {},
   "outputs": [],
   "source": [
    "# Save the last day's closing price\n",
    "# YOUR CODE HERE   [-1]\n",
    "\n",
    "last_day_spy = spy_agg_df['SPY Close'][-1]\n",
    "last_day_agg = spy_agg_df['AGG Close'][-1]\n"
   ]
  },
  {
   "cell_type": "code",
   "execution_count": 23,
   "metadata": {},
   "outputs": [],
   "source": [
    "# Setup the Monte Carlo Parameters  \n",
    "number_simulations = 500\n",
    "number_records = 252 * 30\n",
    "simulated_price_df = pd.DataFrame()\n",
    "portfolio_cumulative_returns = pd.DataFrame()"
   ]
  },
  {
   "cell_type": "code",
   "execution_count": 24,
   "metadata": {},
   "outputs": [
    {
     "data": {
      "text/html": [
       "<div>\n",
       "<style scoped>\n",
       "    .dataframe tbody tr th:only-of-type {\n",
       "        vertical-align: middle;\n",
       "    }\n",
       "\n",
       "    .dataframe tbody tr th {\n",
       "        vertical-align: top;\n",
       "    }\n",
       "\n",
       "    .dataframe thead th {\n",
       "        text-align: right;\n",
       "    }\n",
       "</style>\n",
       "<table border=\"1\" class=\"dataframe\">\n",
       "  <thead>\n",
       "    <tr style=\"text-align: right;\">\n",
       "      <th></th>\n",
       "      <th>Simulation 1</th>\n",
       "      <th>Simulation 2</th>\n",
       "      <th>Simulation 3</th>\n",
       "      <th>Simulation 4</th>\n",
       "      <th>Simulation 5</th>\n",
       "      <th>Simulation 6</th>\n",
       "      <th>Simulation 7</th>\n",
       "      <th>Simulation 8</th>\n",
       "      <th>Simulation 9</th>\n",
       "      <th>Simulation 10</th>\n",
       "      <th>...</th>\n",
       "      <th>Simulation 491</th>\n",
       "      <th>Simulation 492</th>\n",
       "      <th>Simulation 493</th>\n",
       "      <th>Simulation 494</th>\n",
       "      <th>Simulation 495</th>\n",
       "      <th>Simulation 496</th>\n",
       "      <th>Simulation 497</th>\n",
       "      <th>Simulation 498</th>\n",
       "      <th>Simulation 499</th>\n",
       "      <th>Simulation 500</th>\n",
       "    </tr>\n",
       "  </thead>\n",
       "  <tbody>\n",
       "    <tr>\n",
       "      <td>0</td>\n",
       "      <td>1.000000</td>\n",
       "      <td>1.000000</td>\n",
       "      <td>1.000000</td>\n",
       "      <td>1.000000</td>\n",
       "      <td>1.000000</td>\n",
       "      <td>1.000000</td>\n",
       "      <td>1.000000</td>\n",
       "      <td>1.000000</td>\n",
       "      <td>1.000000</td>\n",
       "      <td>1.000000</td>\n",
       "      <td>...</td>\n",
       "      <td>1.000000</td>\n",
       "      <td>1.000000</td>\n",
       "      <td>1.000000</td>\n",
       "      <td>1.000000</td>\n",
       "      <td>1.000000</td>\n",
       "      <td>1.000000</td>\n",
       "      <td>1.000000</td>\n",
       "      <td>1.000000</td>\n",
       "      <td>1.000000</td>\n",
       "      <td>1.000000</td>\n",
       "    </tr>\n",
       "    <tr>\n",
       "      <td>1</td>\n",
       "      <td>1.002668</td>\n",
       "      <td>0.996032</td>\n",
       "      <td>0.993714</td>\n",
       "      <td>0.999739</td>\n",
       "      <td>1.005366</td>\n",
       "      <td>1.006485</td>\n",
       "      <td>1.008857</td>\n",
       "      <td>0.996639</td>\n",
       "      <td>1.001745</td>\n",
       "      <td>0.999214</td>\n",
       "      <td>...</td>\n",
       "      <td>1.002049</td>\n",
       "      <td>0.995961</td>\n",
       "      <td>1.006876</td>\n",
       "      <td>1.000034</td>\n",
       "      <td>0.997829</td>\n",
       "      <td>1.002955</td>\n",
       "      <td>0.996462</td>\n",
       "      <td>0.994291</td>\n",
       "      <td>1.002928</td>\n",
       "      <td>0.997489</td>\n",
       "    </tr>\n",
       "    <tr>\n",
       "      <td>2</td>\n",
       "      <td>1.007403</td>\n",
       "      <td>0.999752</td>\n",
       "      <td>0.993104</td>\n",
       "      <td>0.998788</td>\n",
       "      <td>1.008471</td>\n",
       "      <td>0.997966</td>\n",
       "      <td>1.003646</td>\n",
       "      <td>0.986638</td>\n",
       "      <td>1.001017</td>\n",
       "      <td>1.007189</td>\n",
       "      <td>...</td>\n",
       "      <td>1.004088</td>\n",
       "      <td>1.002926</td>\n",
       "      <td>1.009848</td>\n",
       "      <td>1.001648</td>\n",
       "      <td>0.999210</td>\n",
       "      <td>0.999944</td>\n",
       "      <td>0.996040</td>\n",
       "      <td>0.994752</td>\n",
       "      <td>1.002877</td>\n",
       "      <td>1.001104</td>\n",
       "    </tr>\n",
       "    <tr>\n",
       "      <td>3</td>\n",
       "      <td>1.006697</td>\n",
       "      <td>0.999836</td>\n",
       "      <td>0.996473</td>\n",
       "      <td>0.993373</td>\n",
       "      <td>1.007888</td>\n",
       "      <td>1.000872</td>\n",
       "      <td>1.007376</td>\n",
       "      <td>0.980992</td>\n",
       "      <td>1.000857</td>\n",
       "      <td>1.015020</td>\n",
       "      <td>...</td>\n",
       "      <td>1.004172</td>\n",
       "      <td>1.005504</td>\n",
       "      <td>1.014310</td>\n",
       "      <td>1.003125</td>\n",
       "      <td>0.993012</td>\n",
       "      <td>0.998832</td>\n",
       "      <td>0.999636</td>\n",
       "      <td>1.000061</td>\n",
       "      <td>1.006122</td>\n",
       "      <td>1.000070</td>\n",
       "    </tr>\n",
       "    <tr>\n",
       "      <td>4</td>\n",
       "      <td>1.015042</td>\n",
       "      <td>1.002635</td>\n",
       "      <td>0.993177</td>\n",
       "      <td>0.998934</td>\n",
       "      <td>1.009390</td>\n",
       "      <td>0.996222</td>\n",
       "      <td>1.006292</td>\n",
       "      <td>0.978392</td>\n",
       "      <td>1.008371</td>\n",
       "      <td>1.005533</td>\n",
       "      <td>...</td>\n",
       "      <td>1.005992</td>\n",
       "      <td>1.003891</td>\n",
       "      <td>1.013013</td>\n",
       "      <td>1.008013</td>\n",
       "      <td>0.998892</td>\n",
       "      <td>0.996043</td>\n",
       "      <td>0.994356</td>\n",
       "      <td>1.000796</td>\n",
       "      <td>1.010453</td>\n",
       "      <td>1.003434</td>\n",
       "    </tr>\n",
       "  </tbody>\n",
       "</table>\n",
       "<p>5 rows × 500 columns</p>\n",
       "</div>"
      ],
      "text/plain": [
       "   Simulation 1  Simulation 2  Simulation 3  Simulation 4  Simulation 5  \\\n",
       "0      1.000000      1.000000      1.000000      1.000000      1.000000   \n",
       "1      1.002668      0.996032      0.993714      0.999739      1.005366   \n",
       "2      1.007403      0.999752      0.993104      0.998788      1.008471   \n",
       "3      1.006697      0.999836      0.996473      0.993373      1.007888   \n",
       "4      1.015042      1.002635      0.993177      0.998934      1.009390   \n",
       "\n",
       "   Simulation 6  Simulation 7  Simulation 8  Simulation 9  Simulation 10  ...  \\\n",
       "0      1.000000      1.000000      1.000000      1.000000       1.000000  ...   \n",
       "1      1.006485      1.008857      0.996639      1.001745       0.999214  ...   \n",
       "2      0.997966      1.003646      0.986638      1.001017       1.007189  ...   \n",
       "3      1.000872      1.007376      0.980992      1.000857       1.015020  ...   \n",
       "4      0.996222      1.006292      0.978392      1.008371       1.005533  ...   \n",
       "\n",
       "   Simulation 491  Simulation 492  Simulation 493  Simulation 494  \\\n",
       "0        1.000000        1.000000        1.000000        1.000000   \n",
       "1        1.002049        0.995961        1.006876        1.000034   \n",
       "2        1.004088        1.002926        1.009848        1.001648   \n",
       "3        1.004172        1.005504        1.014310        1.003125   \n",
       "4        1.005992        1.003891        1.013013        1.008013   \n",
       "\n",
       "   Simulation 495  Simulation 496  Simulation 497  Simulation 498  \\\n",
       "0        1.000000        1.000000        1.000000        1.000000   \n",
       "1        0.997829        1.002955        0.996462        0.994291   \n",
       "2        0.999210        0.999944        0.996040        0.994752   \n",
       "3        0.993012        0.998832        0.999636        1.000061   \n",
       "4        0.998892        0.996043        0.994356        1.000796   \n",
       "\n",
       "   Simulation 499  Simulation 500  \n",
       "0        1.000000        1.000000  \n",
       "1        1.002928        0.997489  \n",
       "2        1.002877        1.001104  \n",
       "3        1.006122        1.000070  \n",
       "4        1.010453        1.003434  \n",
       "\n",
       "[5 rows x 500 columns]"
      ]
     },
     "execution_count": 24,
     "metadata": {},
     "output_type": "execute_result"
    }
   ],
   "source": [
    "# Run the Monte Carlo Simulation\n",
    "for x in range(number_simulations):\n",
    "    \n",
    "    simulated_spy_prices = [last_day_spy]\n",
    "    simulated_agg_prices = [last_day_agg]\n",
    "    \n",
    "    # Simulate the returns for 30 Years\n",
    "    for i in range(number_records):\n",
    "        \n",
    "        # Calculate the simulated price using the last price within the list\n",
    "        simulated_spy_price = simulated_spy_prices[-1] * (1 + np.random.normal(avg_daily_return_spy,spy_std))\n",
    "        simulated_agg_price = simulated_agg_prices[-1] * (1 + np.random.normal(avg_daily_return_agg,agg_std))\n",
    "        \n",
    "        \n",
    "        # Append the simulated price to the list\n",
    "        simulated_spy_prices.append(simulated_spy_price)\n",
    "        simulated_agg_prices.append(simulated_agg_price)\n",
    "    \n",
    "    # Append a simulated prices of each simulation to DataFrame\n",
    "    simulated_price_df[\"SPY prices\"] = pd.Series(simulated_spy_prices)\n",
    "    simulated_price_df[\"AGG prices\"] = pd.Series(simulated_agg_prices)\n",
    "    \n",
    "    # Calculate the daily returns of simulated prices\n",
    "    simulated_daily_returns = simulated_price_df.pct_change()\n",
    "    \n",
    "    # Set the portfolio weights (60% SPY; 40% AGG)\n",
    "    weights = [0.60, 0.40]\n",
    "\n",
    "    # Use the `dot` function with the weights to multiply weights with each column's simulated daily returns\n",
    "    portfolio_daily_returns = simulated_daily_returns.dot(weights)\n",
    "    \n",
    "    # Calculate the normalized, cumulative return series\n",
    "    portfolio_cumulative_returns[f\"Simulation {x+1}\"] = (1 + portfolio_daily_returns.fillna(0)).cumprod()\n",
    "\n",
    "# Print records from the DataFrame\n",
    "portfolio_cumulative_returns.head()\n",
    "   \n"
   ]
  },
  {
   "cell_type": "code",
   "execution_count": 25,
   "metadata": {},
   "outputs": [
    {
     "data": {
      "text/plain": [
       "<matplotlib.axes._subplots.AxesSubplot at 0x117f3d790>"
      ]
     },
     "execution_count": 25,
     "metadata": {},
     "output_type": "execute_result"
    },
    {
     "data": {
      "image/png": "[encoded data removed]",
      "text/plain": [
       "<Figure size 432x288 with 1 Axes>"
      ]
     },
     "metadata": {
      "needs_background": "light"
     },
     "output_type": "display_data"
    }
   ],
   "source": [
    "# Visualize the Simulation \n",
    "# YOUR CODE HERE\n",
    "\n",
    "plot_title = f\"{x+1} Simulations of Cumulative Portfolio Return Trajectories Over the Next 30 Years\"\n",
    "portfolio_cumulative_returns.plot(legend=None, title=plot_title)"
   ]
  },
  {
   "cell_type": "code",
   "execution_count": 26,
   "metadata": {},
   "outputs": [
    {
     "data": {
      "text/plain": [
       "Simulation 1    66.050224\n",
       "Simulation 2    54.922776\n",
       "Simulation 3    74.186481\n",
       "Simulation 4    77.739248\n",
       "Simulation 5    71.049007\n",
       "Name: 7560, dtype: float64"
      ]
     },
     "execution_count": 26,
     "metadata": {},
     "output_type": "execute_result"
    }
   ],
   "source": [
    "# Select the last row for the cumulative returns (cumulative returns at 30 years)\n",
    "# YOUR CODE HERE\n",
    "ending_cumulative_returns = portfolio_cumulative_returns.iloc[-1, :]\n",
    "ending_cumulative_returns.head()"
   ]
  },
  {
   "cell_type": "code",
   "execution_count": 27,
   "metadata": {},
   "outputs": [],
   "source": [
    "# Select the last row for the cumulative returns (cumulative returns at 20 years)\n",
    "# YOUR CODE HERE"
   ]
  },
  {
   "cell_type": "code",
   "execution_count": 28,
   "metadata": {},
   "outputs": [
    {
     "data": {
      "text/plain": [
       "0.1    35.298070\n",
       "0.9    91.199884\n",
       "Name: 7560, dtype: float64"
      ]
     },
     "execution_count": 28,
     "metadata": {},
     "output_type": "execute_result"
    }
   ],
   "source": [
    "# Display the 90% confidence interval for the ending returns\n",
    "# YOUR CODE HERE\n",
    "confidence_interval = ending_cumulative_returns.quantile(q=[0.10, 0.90])\n",
    "confidence_interval"
   ]
  },
  {
   "cell_type": "code",
   "execution_count": 29,
   "metadata": {},
   "outputs": [
    {
     "data": {
      "text/plain": [
       "<matplotlib.axes._subplots.AxesSubplot at 0x12e467050>"
      ]
     },
     "execution_count": 29,
     "metadata": {},
     "output_type": "execute_result"
    },
    {
     "data": {
      "image/png": "[encoded data removed]",
      "text/plain": [
       "<Figure size 432x288 with 1 Axes>"
      ]
     },
     "metadata": {
      "needs_background": "light"
     },
     "output_type": "display_data"
    }
   ],
   "source": [
    "# Visualize the distribution of the ending returns\n",
    "# YOUR CODE HERE\n",
    "ending_cumulative_returns.plot(kind='hist', bins=10)"
   ]
  },
  {
   "cell_type": "markdown",
   "metadata": {},
   "source": [
    "---"
   ]
  },
  {
   "cell_type": "markdown",
   "metadata": {},
   "source": [
    "# Retirement Analysis\n",
    "\n",
    "In this section, you will use the monte carlo model to answer the following retirement planning questions:\n",
    "\n",
    "1. What are the expected cumulative returns at 30 years for the 10th, 50th, and 90th percentiles?\n",
    "2. Given an initial investment of `$20,000`, what is the expected portfolio return in dollars at the 10th, 50th, and 90th percentiles?\n",
    "3. Given the current projected annual income from the Plaid analysis, will a 4% withdraw rate from the retirement portfolio meet or exceed that value at the 10th percentile?\n",
    "4. How would a 50% increase in the initial investment amount affect the 4% retirement withdrawal?"
   ]
  },
  {
   "cell_type": "markdown",
   "metadata": {},
   "source": [
    "### What are the expected cumulative returns at 30 years for the 10th, 50th, and 90th percentiles?"
   ]
  },
  {
   "cell_type": "code",
   "execution_count": 33,
   "metadata": {},
   "outputs": [
    {
     "data": {
      "text/plain": [
       "0.1    35.298070\n",
       "0.5    56.128124\n",
       "0.9    91.199884\n",
       "Name: 7560, dtype: float64"
      ]
     },
     "execution_count": 33,
     "metadata": {},
     "output_type": "execute_result"
    }
   ],
   "source": [
    "# YOUR CODE HERE\n",
    "quantile_returns = ending_cumulative_returns.quantile([0.1, 0.5, 0.9])\n",
    "quantile_returns"
   ]
  },
  {
   "cell_type": "markdown",
   "metadata": {},
   "source": [
    "### Given an initial investment of `$20,000`, what is the expected portfolio return in dollars at the 10th, 50th, and 90th percentiles?"
   ]
  },
  {
   "cell_type": "code",
   "execution_count": 47,
   "metadata": {},
   "outputs": [
    {
     "data": {
      "text/plain": [
       "0.1    7.059614e+05\n",
       "0.5    1.122562e+06\n",
       "0.9    1.823998e+06\n",
       "Name: 7560, dtype: float64"
      ]
     },
     "execution_count": 47,
     "metadata": {},
     "output_type": "execute_result"
    }
   ],
   "source": [
    "initial_investment = 20000\n",
    "expected_portfolio_returns = initial_investment * ending_cumulative_returns\n",
    "expected_portfolio_returns\n",
    "\n",
    "expected_quantile_return = expected_portfolio_returns.quantile([0.1, 0.5, 0.9])\n",
    "expected_quantile_return\n",
    "\n",
    "#Don't know how to put it into dollars"
   ]
  },
  {
   "cell_type": "markdown",
   "metadata": {},
   "source": [
    "### Given the current projected annual income from the Plaid analysis, will a 4% withdraw rate from the retirement portfolio meet or exceed that value at the 10th percentile?\n",
    "\n",
    "Note: This is effectively saying that 90% of the expected returns will be greater than the return at the 10th percentile, so this can help measure the uncertainty about having enough funds at retirement"
   ]
  },
  {
   "cell_type": "code",
   "execution_count": null,
   "metadata": {},
   "outputs": [],
   "source": [
    "# YOUR CODE HERE\n",
    "#Don't know how"
   ]
  },
  {
   "cell_type": "markdown",
   "metadata": {},
   "source": [
    "### How would a 50% increase in the initial investment amount affect the 4% retirement withdrawal?"
   ]
  },
  {
   "cell_type": "code",
   "execution_count": null,
   "metadata": {},
   "outputs": [],
   "source": [
    "# YOUR CODE HERE\n",
    "#Don't know how"
   ]
  },
  {
   "cell_type": "markdown",
   "metadata": {},
   "source": [
    "### Optional Challenge\n",
    "\n",
    "In this section, you will calculate and plot the cumulative returns for the median and 90% confidence intervals. This plot shows the expected cumulative returns for any given day between the first day and the last day of investment. "
   ]
  },
  {
   "cell_type": "code",
   "execution_count": null,
   "metadata": {},
   "outputs": [],
   "source": [
    "# YOUR CODE HERE\n",
    "#Don't know how"
   ]
  }
 ],
 "metadata": {
  "kernel_info": {
   "name": "dev"
  },
  "kernelspec": {
   "display_name": "Python 3",
   "language": "python",
   "name": "python3"
  },
  "language_info": {
   "codemirror_mode": {
    "name": "ipython",
    "version": 3
   },
   "file_extension": ".py",
   "mimetype": "text/x-python",
   "name": "python",
   "nbconvert_exporter": "python",
   "pygments_lexer": "ipython3",
   "version": "3.7.4"
  },
  "nteract": {
   "version": "0.12.3"
  }
 },
 "nbformat": 4,
 "nbformat_minor": 4
}
